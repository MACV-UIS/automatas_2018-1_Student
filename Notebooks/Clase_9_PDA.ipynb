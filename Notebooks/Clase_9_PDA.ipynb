{
 "cells": [
  {
   "cell_type": "markdown",
   "metadata": {},
   "source": [
    "# Autómatas a Pila\n",
    "\n",
    "**Autómatas y Lenguajes Formales**\n",
    "\n",
    "**Profesor: Fabio Martínez**\n",
    "\n",
    "**Escuela de Ingeniería de Sistemas e Informática**   "
   ]
  },
  {
   "cell_type": "markdown",
   "metadata": {},
   "source": [
    "La librería [automata-lib](https://pypi.python.org/pypi/automata-lib/1.0.0.post3) de python permite trabajar con auotómatas a Pila **(PDA)**. Esta librería hace parte la hemos venido utilizando para la proogramación de autómatas finitos en sus diferentes versiones. En cuanto a los autómatas a Pila, la libreria cambia un poco en su sintaxis para introducir los simbolos de pila en cada una de las transiciones.  \n",
    "\n",
    "##### Primero cargamos las librerias para trabajar con los PDA"
   ]
  },
  {
   "cell_type": "code",
   "execution_count": null,
   "metadata": {
    "collapsed": true
   },
   "outputs": [],
   "source": [
    "from automatalib.pda.dpda import DPDA"
   ]
  },
  {
   "cell_type": "markdown",
   "metadata": {},
   "source": [
    "## Ejercicio\n",
    "\n",
    "El siguiente autómata no requiere ser no determinista y tiene la forma $L=\\left \\{ a^{n}b^{n}| n \\geq 0 \\right \\}$. \n",
    "\n",
    "### El PDA correspondiente es: $P = (\\left\\{q_0, q_1 q_2, q3 \\right \\}, \\left\\{a,b \\right \\}, \\left\\{0,1, Z \\right \\}, \\delta, q_0, Z, \\left \\{ q_3\\right \\})$  \n",
    "\n",
    "El PDA tiene las siguientes funciones de transición: \n",
    "\n",
    "    - $\\delta(q_{0}, a, Z) = \\left \\{(q_1, 1Z) \\right \\}$\n",
    "    - $\\delta(q_{1}, a, 1) = \\left \\{(q_1, 11) \\right \\}$\n",
    "    - $\\delta(q_{1}, b, 1) = \\left \\{(q_2, \\varepsilon) \\right \\}$\n",
    "    - $\\delta(q_{2}, b, 1) = \\left \\{(q_2, \\varepsilon) \\right \\}$\n",
    "    - $\\delta(q_{2}, \\varepsilon, Z) = \\left \\{(q_3, Z) \\right \\}$\n",
    "  \n",
    "\n",
    "\n"
   ]
  },
  {
   "cell_type": "code",
   "execution_count": 34,
   "metadata": {
    "collapsed": false
   },
   "outputs": [],
   "source": [
    "from automata.pda.dpda import DPDA\n",
    "# DPDA which which matches zero or more 'a's, followed by the same\n",
    "# number of 'b's (accepting by final state)\n",
    "dpda = DPDA(\n",
    "    states={'q0', 'q1', 'q2', 'q3'},\n",
    "    input_symbols={'a', 'b'},\n",
    "    stack_symbols={'0', '1', 'Z'},\n",
    "    transitions={\n",
    "        'q0': {\n",
    "            'a': {'Z': ('q1', ('1', 'Z'))}  # transition pushes '1' to stack\n",
    "        },\n",
    "        'q1': {\n",
    "            'a': {'1': ('q1', ('1', '1'))},\n",
    "            'b': {'1': ('q2', '')}  # transition pops from stack\n",
    "        },\n",
    "        'q2': {\n",
    "            'b': {'1': ('q2', '')},\n",
    "            '': {'Z': ('q3', ('Z',))}  # transition does not change stack\n",
    "        }\n",
    "    },\n",
    "    initial_state='q0',\n",
    "    initial_stack_symbol='Z',\n",
    "    final_states={'q3'}\n",
    ")"
   ]
  },
  {
   "cell_type": "markdown",
   "metadata": {},
   "source": [
    "## Validar las palabras\n",
    "\n",
    "Para validar las palabras del autómata, creamos _dpda.validate_input('palabra a evaluar')_. De la siguiente forma: "
   ]
  },
  {
   "cell_type": "code",
   "execution_count": 48,
   "metadata": {
    "collapsed": false
   },
   "outputs": [
    {
     "data": {
      "text/plain": [
       "('q3', PDAStack(['Z']))"
      ]
     },
     "execution_count": 48,
     "metadata": {},
     "output_type": "execute_result"
    }
   ],
   "source": [
    "dpda.validate_input('aaaaabbbbb')"
   ]
  },
  {
   "cell_type": "markdown",
   "metadata": {},
   "source": [
    "Para validar y conocer los valores contenidos en la pila, en cada estado particular del PDA, podemos utilizar el siguiente código. **De esta forma se simula la configuración instantanea**"
   ]
  },
  {
   "cell_type": "code",
   "execution_count": 49,
   "metadata": {
    "collapsed": false
   },
   "outputs": [
    {
     "data": {
      "text/plain": [
       "[('q0', PDAStack(['Z'])),\n",
       " ('q1', PDAStack(['Z', '1'])),\n",
       " ('q1', PDAStack(['Z', '1', '1'])),\n",
       " ('q1', PDAStack(['Z', '1', '1', '1'])),\n",
       " ('q1', PDAStack(['Z', '1', '1', '1', '1'])),\n",
       " ('q1', PDAStack(['Z', '1', '1', '1', '1', '1'])),\n",
       " ('q2', PDAStack(['Z', '1', '1', '1', '1'])),\n",
       " ('q2', PDAStack(['Z', '1', '1', '1'])),\n",
       " ('q2', PDAStack(['Z', '1', '1'])),\n",
       " ('q2', PDAStack(['Z', '1'])),\n",
       " ('q3', PDAStack(['Z']))]"
      ]
     },
     "execution_count": 49,
     "metadata": {},
     "output_type": "execute_result"
    }
   ],
   "source": [
    "[(state, stack.copy()) for state, stack in dpda.validate_input('aaaaabbbbb', step=True)]"
   ]
  },
  {
   "cell_type": "markdown",
   "metadata": {},
   "source": [
    "Podemos saber si el código escrito corresponde a un autómata de pila determinista que pueda ser simulado por la libreria"
   ]
  },
  {
   "cell_type": "code",
   "execution_count": 44,
   "metadata": {
    "collapsed": false
   },
   "outputs": [
    {
     "data": {
      "text/plain": [
       "True"
      ]
     },
     "execution_count": 44,
     "metadata": {},
     "output_type": "execute_result"
    }
   ],
   "source": [
    "DPDA.validate_self(dpda)"
   ]
  },
  {
   "cell_type": "markdown",
   "metadata": {},
   "source": [
    "La versión original del ejercicio, tomado de la documentación de la libreria __automata-lib__ no cuenta con un simbolo especifico inicial Z. \n",
    "\n",
    "Para el autómata implementado, \"no existe un simbolo inicial\", que es admisible por la libreria. El autómata acepta por estado de aceptación, por lo que no es necesario \"limpiar\" la pila. "
   ]
  },
  {
   "cell_type": "code",
   "execution_count": 51,
   "metadata": {
    "collapsed": true
   },
   "outputs": [],
   "source": [
    "from automata.pda.dpda import DPDA\n",
    "# DPDA which which matches zero or more 'a's, followed by the same\n",
    "# number of 'b's (accepting by final state)\n",
    "dpda = DPDA(\n",
    "    states={'q0', 'q1', 'q2', 'q3'},\n",
    "    input_symbols={'a', 'b'},\n",
    "    stack_symbols={'0', '1'},\n",
    "    transitions={\n",
    "        'q0': {\n",
    "            'a': {'0': ('q1', ('1', '0'))}  # transition pushes '1' to stack\n",
    "        },\n",
    "        'q1': {\n",
    "            'a': {'1': ('q1', ('1', '1'))},\n",
    "            'b': {'1': ('q2', '')}  # transition pops from stack\n",
    "        },\n",
    "        'q2': {\n",
    "            'b': {'1': ('q2', '')},\n",
    "            '': {'0': ('q3', ('0',))}  # transition does not change stack\n",
    "        }\n",
    "    },\n",
    "    initial_state='q0',\n",
    "    initial_stack_symbol='0',\n",
    "    final_states={'q3'}\n",
    ")"
   ]
  },
  {
   "cell_type": "code",
   "execution_count": 52,
   "metadata": {
    "collapsed": false
   },
   "outputs": [
    {
     "name": "stdout",
     "output_type": "stream",
     "text": [
      "('q3', PDAStack(['0']))\n"
     ]
    }
   ],
   "source": [
    "print(dpda.validate_input('aaabbb') )"
   ]
  },
  {
   "cell_type": "markdown",
   "metadata": {},
   "source": [
    "Simulación de la Pila"
   ]
  },
  {
   "cell_type": "code",
   "execution_count": 54,
   "metadata": {
    "collapsed": false
   },
   "outputs": [
    {
     "data": {
      "text/plain": [
       "[('q0', PDAStack(['0'])),\n",
       " ('q1', PDAStack(['0', '1'])),\n",
       " ('q1', PDAStack(['0', '1', '1'])),\n",
       " ('q1', PDAStack(['0', '1', '1', '1'])),\n",
       " ('q1', PDAStack(['0', '1', '1', '1', '1'])),\n",
       " ('q1', PDAStack(['0', '1', '1', '1', '1', '1'])),\n",
       " ('q2', PDAStack(['0', '1', '1', '1', '1'])),\n",
       " ('q2', PDAStack(['0', '1', '1', '1'])),\n",
       " ('q2', PDAStack(['0', '1', '1'])),\n",
       " ('q2', PDAStack(['0', '1'])),\n",
       " ('q3', PDAStack(['0']))]"
      ]
     },
     "execution_count": 54,
     "metadata": {},
     "output_type": "execute_result"
    }
   ],
   "source": [
    "[(state, stack.copy()) for state, stack in dpda.validate_input('aaaaabbbbb', step=True)]"
   ]
  },
  {
   "cell_type": "markdown",
   "metadata": {},
   "source": [
    "---\n",
    "## Ejercicio\n",
    "\n",
    "El siguiente autómata no requiere ser no determinista y tiene la forma $L=\\left \\{ a^{n}b^{m}a^{n}| m,n \\geq 0 \\right \\}$. "
   ]
  },
  {
   "cell_type": "code",
   "execution_count": 72,
   "metadata": {
    "collapsed": true
   },
   "outputs": [],
   "source": [
    "from automatalib.pda.dpda import DPDA\n",
    "\n",
    "dpda = DPDA(\n",
    "    states={'qa', 'q0', 'q1', 'q2', 'q3'},\n",
    "    input_symbols={'a', 'b'},\n",
    "    stack_symbols={'x', 'Z'},\n",
    "    transitions={\n",
    "        'qa': {\n",
    "            'a': {'Z': ('q0', ('x', 'Z'))}\n",
    "        },\n",
    "        'q0':{\n",
    "            'a': {'x': ('q0', ('x', 'x'))},  \n",
    "            'b': {'x': ('q1', ('x',))}  \n",
    "        },\n",
    "        'q1': {\n",
    "            'a': {'x': ('q2', '')},\n",
    "            'b': {'x': ('q1', ('x',))}  \n",
    "        },\n",
    "        'q2': {\n",
    "            'a': {'x': ('q2', '')},\n",
    "            '': {'Z': ('q3', ('Z',))}  # transition does not change stack\n",
    "        }\n",
    "    },\n",
    "    initial_state='qa',\n",
    "    initial_stack_symbol='Z',\n",
    "    final_states={'q3'}\n",
    ")"
   ]
  },
  {
   "cell_type": "code",
   "execution_count": 73,
   "metadata": {
    "collapsed": false
   },
   "outputs": [
    {
     "name": "stdout",
     "output_type": "stream",
     "text": [
      "('q3', PDAStack(['Z']))\n"
     ]
    }
   ],
   "source": [
    "print(dpda.validate_input('aaabbbaaa') )"
   ]
  },
  {
   "cell_type": "code",
   "execution_count": 74,
   "metadata": {
    "collapsed": false
   },
   "outputs": [
    {
     "data": {
      "text/plain": [
       "[('qa', PDAStack(['Z'])),\n",
       " ('q0', PDAStack(['Z', 'x'])),\n",
       " ('q0', PDAStack(['Z', 'x', 'x'])),\n",
       " ('q0', PDAStack(['Z', 'x', 'x', 'x'])),\n",
       " ('q0', PDAStack(['Z', 'x', 'x', 'x', 'x'])),\n",
       " ('q0', PDAStack(['Z', 'x', 'x', 'x', 'x', 'x'])),\n",
       " ('q1', PDAStack(['Z', 'x', 'x', 'x', 'x', 'x'])),\n",
       " ('q1', PDAStack(['Z', 'x', 'x', 'x', 'x', 'x'])),\n",
       " ('q1', PDAStack(['Z', 'x', 'x', 'x', 'x', 'x'])),\n",
       " ('q1', PDAStack(['Z', 'x', 'x', 'x', 'x', 'x'])),\n",
       " ('q1', PDAStack(['Z', 'x', 'x', 'x', 'x', 'x'])),\n",
       " ('q2', PDAStack(['Z', 'x', 'x', 'x', 'x'])),\n",
       " ('q2', PDAStack(['Z', 'x', 'x', 'x'])),\n",
       " ('q2', PDAStack(['Z', 'x', 'x'])),\n",
       " ('q2', PDAStack(['Z', 'x'])),\n",
       " ('q3', PDAStack(['Z']))]"
      ]
     },
     "execution_count": 74,
     "metadata": {},
     "output_type": "execute_result"
    }
   ],
   "source": [
    "[(state, stack.copy()) for state, stack in dpda.validate_input('aaaaabbbbbaaaaa', step=True)]"
   ]
  },
  {
   "cell_type": "markdown",
   "metadata": {},
   "source": [
    "---\n",
    "## Ejercicio\n",
    "\n",
    "El siguiente autómata no requiere ser no determinista y tiene la forma $L=\\left \\{ a^{n}b^{m}c^{l}| \\text{  }  n+m-l=0\\right \\}$. "
   ]
  },
  {
   "cell_type": "code",
   "execution_count": 7,
   "metadata": {
    "collapsed": false
   },
   "outputs": [],
   "source": [
    "from automata.pda.dpda import DPDA\n",
    "\n",
    "dpda = DPDA(\n",
    "    states={'qa','q0', 'q1', 'q2', 'q3'},\n",
    "    input_symbols={'a', 'b', 'c'},\n",
    "    stack_symbols={'x', 'Z'},\n",
    "    transitions={\n",
    "        'qa': {\n",
    "            'a':{'Z':('q0', ('x', 'Z'))}\n",
    "        },\n",
    "        'q0': {\n",
    "            'a': {'x': ('q0', ('x', 'x'))},  \n",
    "            'b': {'x': ('q1', ('x', 'x'))}  \n",
    "        },\n",
    "        'q1': {\n",
    "            'b': {'x': ('q1', ('x', 'x'))}, \n",
    "            'c': {'x': ('q2', '')}  \n",
    "        },\n",
    "        'q2': {\n",
    "            'c': {'x': ('q2', '')},\n",
    "             '': {'Z': ('q3', ('Z', ))}  \n",
    "        }\n",
    "    },\n",
    "    initial_state='qa',\n",
    "    initial_stack_symbol='Z',\n",
    "    final_states={'q3'}\n",
    ")"
   ]
  },
  {
   "cell_type": "code",
   "execution_count": 8,
   "metadata": {
    "collapsed": false
   },
   "outputs": [
    {
     "name": "stdout",
     "output_type": "stream",
     "text": [
      "('q3', PDAStack(['Z']))\n"
     ]
    }
   ],
   "source": [
    "print(dpda.validate_input('aaabbbcccccc') )"
   ]
  },
  {
   "cell_type": "code",
   "execution_count": 10,
   "metadata": {
    "collapsed": false
   },
   "outputs": [
    {
     "data": {
      "text/plain": [
       "[('qa', PDAStack(['Z'])),\n",
       " ('q0', PDAStack(['Z', 'x'])),\n",
       " ('q0', PDAStack(['Z', 'x', 'x'])),\n",
       " ('q0', PDAStack(['Z', 'x', 'x', 'x'])),\n",
       " ('q1', PDAStack(['Z', 'x', 'x', 'x', 'x'])),\n",
       " ('q1', PDAStack(['Z', 'x', 'x', 'x', 'x', 'x'])),\n",
       " ('q1', PDAStack(['Z', 'x', 'x', 'x', 'x', 'x', 'x'])),\n",
       " ('q2', PDAStack(['Z', 'x', 'x', 'x', 'x', 'x'])),\n",
       " ('q2', PDAStack(['Z', 'x', 'x', 'x', 'x'])),\n",
       " ('q2', PDAStack(['Z', 'x', 'x', 'x'])),\n",
       " ('q2', PDAStack(['Z', 'x', 'x'])),\n",
       " ('q2', PDAStack(['Z', 'x'])),\n",
       " ('q3', PDAStack(['Z']))]"
      ]
     },
     "execution_count": 10,
     "metadata": {},
     "output_type": "execute_result"
    }
   ],
   "source": [
    "[(state, stack.copy()) for state, stack in dpda.validate_input('aaabbbcccccc', step=True)]"
   ]
  },
  {
   "cell_type": "markdown",
   "metadata": {},
   "source": [
    "https://pypi.python.org/pypi/automata-lib/1.0.0.post4"
   ]
  }
 ],
 "metadata": {
  "kernelspec": {
   "display_name": "Python 3",
   "language": "python",
   "name": "python3"
  },
  "language_info": {
   "codemirror_mode": {
    "name": "ipython",
    "version": 3
   },
   "file_extension": ".py",
   "mimetype": "text/x-python",
   "name": "python",
   "nbconvert_exporter": "python",
   "pygments_lexer": "ipython3",
   "version": "3.6.2"
  }
 },
 "nbformat": 4,
 "nbformat_minor": 1
}
