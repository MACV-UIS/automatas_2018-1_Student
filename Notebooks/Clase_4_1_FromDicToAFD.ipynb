{
 "cells": [
  {
   "cell_type": "markdown",
   "metadata": {},
   "source": [
    "# Desde los diccionarios y funciones hacia los AUTOMATAS\n",
    "## Practicando con autómatas simples\n",
    "\n",
    "**Autómatas y Lenguajes Formales**\n",
    "\n",
    "**Profesor: Fabio Martínez**\n",
    "\n",
    "**Escuela de Ingeniería de Sistemas e Informática**   "
   ]
  },
  {
   "cell_type": "markdown",
   "metadata": {},
   "source": [
    "## Autómata Finito más simple"
   ]
  },
  {
   "cell_type": "markdown",
   "metadata": {},
   "source": [
    "Los autómatas son modelos teóricos y discretos que permiten problemas computables utilizando una estrategia de codificación y simulación de palabras utilizando: **estados** e **impulsos**\n",
    "\n",
    "<div style=\"text-align:center; font-style: italic;\" class=\"image\">\n",
    "<img src=\"files/automataSimple.png\" width=600px>\n",
    "<div>Figura 1. Autómata simple</div>\n",
    "</div>\n",
    "\n",
    "- Los diccionarios son colecciones no-ordenadas que pueden modelar la relación **(estado-impulso)** como la clave y esto conducirá a ***un*** nuevo **estado**: valor accedido desde la clave. \n",
    "- Las funciones me permiten agrupar los comandos que conforman la \"lógica\" del autómata y hacer un llamado **recursivo** al diccionario que contiene la colección de  **(estado-impulso)** que definen el **autómata**"
   ]
  },
  {
   "cell_type": "markdown",
   "metadata": {
    "collapsed": true
   },
   "source": [
    "### Implementación"
   ]
  },
  {
   "cell_type": "markdown",
   "metadata": {},
   "source": [
    "<p>Para la implementación de los autómatas simples mostrados anteriormente, es necesario hacer uso de los conocimientos previos adquiridos en el lenguaje de python.<p>"
   ]
  },
  {
   "cell_type": "markdown",
   "metadata": {},
   "source": [
    "** La implementación consta de dos elementos fundamentales **  \n",
    "- Tabla de Transiciónes (Mediante diccionario python)  \n",
    "- Función de Transición (Utilizando recursividad)  "
   ]
  },
  {
   "cell_type": "markdown",
   "metadata": {},
   "source": [
    "### Implementación autómata simple"
   ]
  },
  {
   "cell_type": "markdown",
   "metadata": {},
   "source": [
    "### Tabla de transiciones"
   ]
  },
  {
   "cell_type": "code",
   "execution_count": 10,
   "metadata": {
    "collapsed": true
   },
   "outputs": [],
   "source": [
    "# Si estoy en el estado off y tengo el estimulo \"pulsar\" entonces debo ir al estado \"on\"\n",
    "transiciones={\n",
    "       ('off','pulsar'):'on',\n",
    "       ('on','pulsar'):'off',\n",
    "            }\n"
   ]
  },
  {
   "cell_type": "markdown",
   "metadata": {},
   "source": [
    "- Que tipo de estructura es?. Como lo podemos comprobar con Python?\n",
    "- Cuales son los componentes de esta estructura?. Como lo podemos comprobar con python?"
   ]
  },
  {
   "cell_type": "code",
   "execution_count": 11,
   "metadata": {
    "collapsed": false
   },
   "outputs": [
    {
     "data": {
      "text/plain": [
       "dict"
      ]
     },
     "execution_count": 11,
     "metadata": {},
     "output_type": "execute_result"
    }
   ],
   "source": [
    "type(transiciones)"
   ]
  },
  {
   "cell_type": "code",
   "execution_count": 12,
   "metadata": {
    "collapsed": false
   },
   "outputs": [
    {
     "name": "stdout",
     "output_type": "stream",
     "text": [
      "clave:  ('off', 'pulsar')  valor:  on\n",
      "clave:  ('on', 'pulsar')  valor:  off\n"
     ]
    }
   ],
   "source": [
    "for key, val in transiciones.items():\n",
    "   print \"clave: \", key, \" valor: \", val"
   ]
  },
  {
   "cell_type": "markdown",
   "metadata": {},
   "source": [
    "Recuerden que las claves pueden ser de cualquier tipo definido en python, **string, int, tuple, ...**"
   ]
  },
  {
   "cell_type": "code",
   "execution_count": 13,
   "metadata": {
    "collapsed": false
   },
   "outputs": [
    {
     "name": "stdout",
     "output_type": "stream",
     "text": [
      "on\n",
      "<type 'tuple'>\n"
     ]
    }
   ],
   "source": [
    "print transiciones.get(('off', 'pulsar'))\n",
    "print type(('off', 'pulsar'))"
   ]
  },
  {
   "cell_type": "markdown",
   "metadata": {},
   "source": [
    "### Función de transición"
   ]
  },
  {
   "cell_type": "code",
   "execution_count": 14,
   "metadata": {
    "collapsed": true
   },
   "outputs": [],
   "source": [
    "def transicion(pulsaciones,estado_actual,transiciones):# se define la función\n",
    "    if pulsaciones == []: # Cuando no encuentra nada\n",
    "        return estado_actual\n",
    "    else:\n",
    "        pulsacion = pulsaciones[0] # Comienza con la primera pulsación\n",
    "        if (estado_actual,pulsacion) in transiciones:# Busca (estado_actual,pulsacion) en la tabla para retornar el estado final\n",
    "            estado_destino = transiciones[(estado_actual,pulsacion)]\n",
    "            pulsaciones_restantes = pulsaciones[1:] # Recorre las demás pulsaciones\n",
    "            return transicion(pulsaciones_restantes,estado_destino,transiciones) # Recursividad\n",
    "        else:\n",
    "            return False # Si no es una pulsación válida retorna False\n",
    "            "
   ]
  },
  {
   "cell_type": "code",
   "execution_count": 16,
   "metadata": {
    "collapsed": false
   },
   "outputs": [
    {
     "name": "stdout",
     "output_type": "stream",
     "text": [
      "('El estado final es: ', 'off')\n"
     ]
    }
   ],
   "source": [
    "pulsaciones = [\"pulsar\",\"pulsar\",\"pulsar\"] # Definimos el número de pulsaciones\n",
    "estado_actual = \"on\" # Definir el estado de inicio\n",
    "\n",
    "print(\"El estado final es: \",transicion(pulsaciones,estado_actual,transiciones))"
   ]
  },
  {
   "cell_type": "markdown",
   "metadata": {},
   "source": [
    "- \"pulsar\" es una letra o una palabra?\n",
    "- Cuales son los estados?\n",
    "- El autómata acepta palabras diferente a \"pulsar\"?"
   ]
  },
  {
   "cell_type": "markdown",
   "metadata": {},
   "source": [
    "## Reconocimiento de palabras mediante autómatas"
   ]
  },
  {
   "cell_type": "markdown",
   "metadata": {},
   "source": [
    "<div style=\"text-align:center; font-style: italic;\" class=\"image\">\n",
    "<img src=\"files/hola.png\" width=700px>\n",
    "<div>Figura 2. Reconocimiento de palabras</div>\n",
    "</div>"
   ]
  },
  {
   "cell_type": "markdown",
   "metadata": {},
   "source": [
    "- Como se definiría el lenguaje $L$ de este autómata? \n",
    "- Que es $\\Sigma$\n",
    "- Que es $\\Sigma^{*}$"
   ]
  },
  {
   "cell_type": "markdown",
   "metadata": {},
   "source": [
    "### Implementación autómata para reconocer palabras"
   ]
  },
  {
   "cell_type": "code",
   "execution_count": 4,
   "metadata": {
    "collapsed": false
   },
   "outputs": [],
   "source": [
    "transicion={\n",
    "       (' ','h'):'h',\n",
    "       ('h','o'):'ho',\n",
    "       ('ho','l'):'hol',\n",
    "       ('hol','a'):'hola'\n",
    "            }\n",
    "\n",
    "estado_aceptacion=['hola'] # estado de aceptacion\n",
    "\n",
    "def fun_transicion(cadena,estado_actual,transicion,estado_aceptacion): # se define la función\n",
    "    if cadena == \"\": # cuando no encuentra nada\n",
    "        return estado_actual in estado_aceptacion # si la cadena es ∅, entonces la función retorna True\n",
    "    else:\n",
    "        letra = cadena[0] # comienza con el primer caracter\n",
    "        if(estado_actual,letra)in transicion:  # compara (estado_actual,letra) se encuentra en la tabla de transiciones\n",
    "            estado_destino = transicion[(estado_actual,letra)]  # si es así, el estado destino tendra el nuevo valor estado\n",
    "            cadena_restante = cadena[1:] # recorre los demás caracteres\n",
    "            return fun_transicion(cadena_restante,estado_destino,transicion,estado_aceptacion) # recursividad\n",
    "        else:\n",
    "            return False # si la cadena no es aceptada por el autómata, retorna False\n"
   ]
  },
  {
   "cell_type": "code",
   "execution_count": 2,
   "metadata": {
    "collapsed": false
   },
   "outputs": [
    {
     "name": "stdout",
     "output_type": "stream",
     "text": [
      "ingresa la palabra a identificarhola\n",
      "\n",
      "\n",
      "esto es:  hola\n",
      "('La palabra ingresada es hola?:', True)\n"
     ]
    }
   ],
   "source": [
    "palabra = raw_input(\"ingresa la palabra a identificar\")#input(\"ingresa la palabra a identificar\")\n",
    "print '\\n'\n",
    "print \"esto es: \", palabra\n",
    "print(\"La palabra ingresada es hola?:\",fun_transicion(palabra,' ',transicion,estado_aceptacion))"
   ]
  },
  {
   "cell_type": "markdown",
   "metadata": {
    "collapsed": true
   },
   "source": [
    "Note que este autómata tiene una definición de **estado de aceptación**. \n",
    "    - Que pasa si quiero cambiar el nombre de los estado?\n",
    "    - Que cambio en el código?"
   ]
  }
 ],
 "metadata": {
  "kernelspec": {
   "display_name": "Python 2",
   "language": "python",
   "name": "python2"
  },
  "language_info": {
   "codemirror_mode": {
    "name": "ipython",
    "version": 2
   },
   "file_extension": ".py",
   "mimetype": "text/x-python",
   "name": "python",
   "nbconvert_exporter": "python",
   "pygments_lexer": "ipython2",
   "version": "2.7.12"
  }
 },
 "nbformat": 4,
 "nbformat_minor": 0
}
