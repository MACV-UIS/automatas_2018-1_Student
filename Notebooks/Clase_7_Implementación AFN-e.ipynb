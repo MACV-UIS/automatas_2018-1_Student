{
 "cells": [
  {
   "cell_type": "markdown",
   "metadata": {},
   "source": [
    "# Implementación manual Autómatas finitos no deterministas (AFN-e)\n",
    "\n",
    "**Autómatas y Lenguajes Formales**\n",
    "\n",
    "**Profesor: Fabio Martínez**\n",
    "\n",
    "**Escuela de Ingeniería de Sistemas e Informática**   "
   ]
  },
  {
   "cell_type": "code",
   "execution_count": 1,
   "metadata": {
    "collapsed": true
   },
   "outputs": [],
   "source": [
    "from automatalib.fa.nfa import NFA # Se importa la clase NFA"
   ]
  },
  {
   "cell_type": "markdown",
   "metadata": {
    "collapsed": true
   },
   "source": [
    "- Para desarrollar ejercicios con AFN-$\\varepsilon$, se debe fijar una transición con un símbolo vacío, por ejemplo:\n"
   ]
  },
  {
   "cell_type": "markdown",
   "metadata": {},
   "source": [
    "<br>\n",
    "<div style=\"text-align:center; font-style: italic;\" class=\"image\">\n",
    "<img src=\"files/nfaepsilon.png\" width=300px>\n",
    "<br>\n",
    "<div>Figura 6. Diagrama de transiciones del AFND con transición vacia</div>\n",
    "</div>\n",
    "<br>"
   ]
  },
  {
   "cell_type": "code",
   "execution_count": 3,
   "metadata": {
    "collapsed": true
   },
   "outputs": [],
   "source": [
    "# NFA que reconoce palabras inciadas por a y que no contienen b consecutivos\n",
    "nfa = NFA(\n",
    "    states={'q0', 'q1', 'q2'},\n",
    "    input_symbols={'a', 'b'},\n",
    "    transitions={\n",
    "        'q0': {'a': {'q1'}},\n",
    "        # Usar '' como el nombre de la llave para símbolos vacío (lambda/epsilon) transiciones\n",
    "        'q1': {'a': {'q1'}, '': {'q2'}},\n",
    "        'q2': {'b': {'q0'}}\n",
    "    },\n",
    "    initial_state='q0',\n",
    "    final_states={'q1'}\n",
    ")"
   ]
  },
  {
   "cell_type": "code",
   "execution_count": 2,
   "metadata": {
    "collapsed": true
   },
   "outputs": [],
   "source": [
    "def checker(cadena,NFA):\n",
    "    try:\n",
    "        NFA.validate_input(cadena)\n",
    "        return \"La cadena es aceptada: sus estados visitados fueron:\",[step for step in NFA.validate_input(cadena, step=True)]\n",
    "    except Exception as e:\n",
    "        print(\"Entrada no valida: \\n\", e) "
   ]
  },
  {
   "cell_type": "code",
   "execution_count": 4,
   "metadata": {
    "collapsed": false
   },
   "outputs": [
    {
     "name": "stdout",
     "output_type": "stream",
     "text": [
      "Es aceptada:? ('La cadena es aceptada: sus estados visitados fueron:', [{'q0'}, {'q2', 'q1'}, {'q0'}, {'q2', 'q1'}])\n"
     ]
    }
   ],
   "source": [
    "# Prueba:\n",
    "print (\"Es aceptada:?\",checker(\"aba\",nfa))"
   ]
  },
  {
   "cell_type": "markdown",
   "metadata": {},
   "source": [
    "De acuerdo con la siguiente tabla: \n",
    "\n",
    "<br>\n",
    "<div style=\"text-align:center; font-style: italic;\" class=\"image\">\n",
    "<img src=\"files/tabla-epsilon.png\" width=300px>\n",
    "<br>\n",
    "<div>Tabla de transiciones del AFND con transición vacia</div>\n",
    "</div>\n",
    "<br>\n",
    "\n",
    "    - Implemente el autómata AFN correspondiente\n",
    "    - Determine el lenguaje $L$ de aceptación\n",
    "    - Convierta el AFN-$\\varepsilon$ en un AFD utilizando subconjuntos y clausura\n",
    "    - Implemente el AFD correspondiente\n",
    "    - Realice las simulaciones con JFLAP"
   ]
  },
  {
   "cell_type": "code",
   "execution_count": null,
   "metadata": {
    "collapsed": true
   },
   "outputs": [],
   "source": []
  }
 ],
 "metadata": {
  "kernelspec": {
   "display_name": "Python 3",
   "language": "python",
   "name": "python3"
  },
  "language_info": {
   "codemirror_mode": {
    "name": "ipython",
    "version": 3
   },
   "file_extension": ".py",
   "mimetype": "text/x-python",
   "name": "python",
   "nbconvert_exporter": "python",
   "pygments_lexer": "ipython3",
   "version": "3.6.2"
  }
 },
 "nbformat": 4,
 "nbformat_minor": 0
}
