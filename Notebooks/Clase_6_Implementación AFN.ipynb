{
 "cells": [
  {
   "cell_type": "markdown",
   "metadata": {},
   "source": [
    "# Implementación manual Autómatas finitos no deterministas (AFN)\n",
    "\n",
    "**Autómatas y Lenguajes Formales**\n",
    "\n",
    "**Profesor: Fabio Martínez**\n",
    "\n",
    "**Escuela de Ingeniería de Sistemas e Informática**   "
   ]
  },
  {
   "cell_type": "code",
   "execution_count": 2,
   "metadata": {
    "collapsed": true
   },
   "outputs": [],
   "source": [
    "from automatalib.fa.nfa import NFA # Se importa la clase NFA\n"
   ]
  },
  {
   "cell_type": "markdown",
   "metadata": {},
   "source": [
    "### Implementación  autómata finito determinista"
   ]
  },
  {
   "cell_type": "markdown",
   "metadata": {},
   "source": [
    "- <b>Ejemplo A</b><br>\n",
    "Se desea diseñar un AFND que acepte el lenguaje\n",
    " \n",
    "$$L=\\{w \\mid w \\text{ tiene un cero en la penúltima posición y un uno en la última posición}\\}$$\n",
    "\n",
    "<br>\n",
    "<div style=\"text-align:center; font-style: italic;\" class=\"image\">\n",
    "<img src=\"files/penultima.png\" width=500px>\n",
    "<div>Penúltima y última posición</div>\n",
    "</div>\n",
    "<br>\n",
    "\n",
    "La tarea de los estados de este AFND es garantizar que al final de la palabra exista un cero, seguido de un uno. Debe contemplarse también la posibilidad de permitir cualquier cantidad de caracteres al principio de la palabra.\n",
    "Por lo tanto existen tres estados interpretados de la siguiente forma:\n",
    "- $q_0$: leer cualquier caracter, cero o uno, en cualquier cantidad. Igualmente, al ser un NFA, puede leer un cero para cumplir la primera condición del lenguaje.\n",
    "- $q_1$: leer un uno, para cumplir la segunda condición del lenguaje.\n",
    "- $q_2$: acepta la computación porque en este momento se cumplen todas las condiciones del lenguaje.\n",
    "\n",
    "El estado $q_0$ será el estado incial, y $q_2$ el estado de aceptación. $q_0$ es el estado inicial porque en ese momento es posible que ingrese cualquier caracter, en cualquier cantidad que se presente. $q_2$ es el estado de aceptación porque describe de forma exacta la condición para que la penúltima posición tenga un cero y la última posición tenga un uno. Con esto se logra identificar las palabras que pertenecen al lenguaje $L$.\n",
    "\n",
    "Ahora ya sabemos cómo especificar el AFND para el lenguaje $L$. Así\n",
    "\n",
    "$$A=(\\{q_0,q_1,q_2\\},\\{0,1\\},\\delta,q_0,\\{q_2\\})$$\n",
    "\n",
    "donde la función de transición $\\delta$ se describe mediante el diagrama de transiciones de la siguiente figura"
   ]
  },
  {
   "cell_type": "markdown",
   "metadata": {},
   "source": [
    "<div style=\"text-align:center; font-style: italic;\" class=\"image\">\n",
    "<img src=\"files/AFND01.png\" width=600px>\n",
    "<br>\n",
    "<div>Figura 1. Diagrama de transiciones del AFND 1</div>\n",
    "</div>\n",
    "<br>"
   ]
  },
  {
   "cell_type": "markdown",
   "metadata": {
    "collapsed": true
   },
   "source": [
    "## Implementación usando automata-lib"
   ]
  },
  {
   "cell_type": "markdown",
   "metadata": {},
   "source": [
    "La implementación de autómatas no deterministas es casi igual a como se hizo con los autómatas deterministas en la práctica anterior, esta clase NFA es un modificación de la clase anterior, es por ello que recibe los mismo parámetros aceptando ya no un solo estado de transición para cada símbolo si no un conjunto de estados de transición para cada símbolo. "
   ]
  },
  {
   "cell_type": "markdown",
   "metadata": {},
   "source": [
    "A continuación se presenta el código del autómata que acepta el lenguaje del AFND 1:"
   ]
  },
  {
   "cell_type": "code",
   "execution_count": 3,
   "metadata": {
    "collapsed": false
   },
   "outputs": [],
   "source": [
    "nfa1 = NFA(\n",
    "    states={'q0', 'q1', 'q2'},\n",
    "    input_symbols={'0', '1'},\n",
    "    transitions={\n",
    "        'q0': {'0': {'q0','q1'}, '1': {'q0'}}, # Conjunto de estados de transición\n",
    "        'q1': {'1': {'q2'}},\n",
    "        'q2': {}\n",
    "    },\n",
    "    initial_state='q0',\n",
    "    final_states={'q2'}\n",
    ")"
   ]
  },
  {
   "cell_type": "code",
   "execution_count": 4,
   "metadata": {
    "collapsed": true
   },
   "outputs": [],
   "source": [
    "def checker(cadena,NFA):\n",
    "    try:\n",
    "        NFA.validate_input(cadena)\n",
    "        return \"La cadena es aceptada: sus estados visitados fueron:\",[step for step in NFA.validate_input(cadena, step=True)]\n",
    "    except Exception as e:\n",
    "        print(\"Entrada no valida: \\n\", e) "
   ]
  },
  {
   "cell_type": "code",
   "execution_count": 5,
   "metadata": {
    "collapsed": false
   },
   "outputs": [
    {
     "name": "stdout",
     "output_type": "stream",
     "text": [
      "Es aceptada?: ('La cadena es aceptada: sus estados visitados fueron:', [{'q0'}, {'q0', 'q1'}, {'q0', 'q2'}, {'q0', 'q1'}, {'q0', 'q2'}, {'q0', 'q1'}, {'q0', 'q1'}, {'q0', 'q1'}, {'q0', 'q2'}])\n"
     ]
    }
   ],
   "source": [
    "print (\"Es aceptada?:\",checker(\"01010001\",nfa1))"
   ]
  },
  {
   "cell_type": "markdown",
   "metadata": {},
   "source": [
    "- <b>Ejemplo B</b><br>\n",
    "Se desea diseñar un AFND que acepte el lenguaje\n",
    " \n",
    "$$L=\\{w \\mid w \\text{ tiene un uno en la antepenúltima posición}\\}$$\n",
    "\n",
    "<br>\n",
    "<div style=\"text-align:center; font-style: italic;\" class=\"image\">\n",
    "<img src=\"files/antepenultima.png\" width=500px>\n",
    "<div>Antepenúltima posición</div>\n",
    "</div>\n",
    "<br>\n",
    "\n",
    "La tarea de los estados de este AFND es garantizar que exista un uno, seguido de un caracter (0 ó 1), y un caracter adicional (0 ó 1). Debe contemplarse también la posibilidad de permitir cualquier cantidad de caracteres al principio de la palabra.\n",
    "Por lo tanto existen cuatro estados interpretados de la siguiente forma:\n",
    "- $q_0$: leer cualquier caracter, cero o uno, en cualquier cantidad. \n",
    "- $q_1$: leer un uno, hasta el momento se cumple la condición del lenguaje.\n",
    "- $q_2$: leer UN caracter, puede ser cero o uno.\n",
    "- $q_3$: leer UN caracter, puede ser cero o uno.\n",
    "\n",
    "El estado $q_0$ será el estado incial, y $q_3$ el estado de aceptación. $q_0$ es el estado inicial porque en ese momento es posible que ingrese cualquier caracter, en cualquier cantidad que se presente. $q_3$ es el estado de aceptación porque describe de forma exacta la condición para que la antepenúltima posición tenga un uno, seguido de cualquier caracter y otro caracter. Con esto se logra identificar las palabras que pertenecen al lenguaje $L$.\n",
    "\n",
    "Ahora ya sabemos cómo especificar el AFND para el lenguaje $L$. Así\n",
    "\n",
    "$$A=(\\{q_0,q_1,q_2,q_3\\},\\{0,1\\},\\delta,q_0,\\{q_3\\})$$\n",
    "\n",
    "donde la función de transición $\\delta$ se describe mediante el diagrama de transiciones de la siguiente figura"
   ]
  },
  {
   "cell_type": "markdown",
   "metadata": {},
   "source": [
    "<div style=\"text-align:center; font-style: italic;\" class=\"image\">\n",
    "<img src=\"files/AFND02.png\" width=600px>\n",
    "<br>\n",
    "<div>Figura 3. Diagrama de transiciones del AFND 2</div>\n",
    "</div>\n",
    "<br>"
   ]
  },
  {
   "cell_type": "code",
   "execution_count": 38,
   "metadata": {
    "collapsed": false
   },
   "outputs": [],
   "source": [
    "nfa2 = NFA(\n",
    "    states={'q0', 'q1', 'q2','q3'},\n",
    "    input_symbols={'0', '1'},\n",
    "    transitions={\n",
    "        'q0': {'0': {'q0'}, '1': {'q0','q1'}}, # Conjunto de estados de transición\n",
    "        'q1': {'0': {'q2'},'1':{'q2'}},\n",
    "        'q2': {'0': {'q3'},'1':{'q3'}},\n",
    "        'q3': {}\n",
    "    },\n",
    "    initial_state='q0',\n",
    "    final_states={'q3'}\n",
    ")"
   ]
  },
  {
   "cell_type": "code",
   "execution_count": 36,
   "metadata": {
    "collapsed": false
   },
   "outputs": [
    {
     "name": "stdout",
     "output_type": "stream",
     "text": [
      "Es aceptada:? ('La cadena es aceptada: sus estados visitados fueron:', [{'q0'}, {'q0', 'q1'}, {'q0', 'q1', 'q2'}, {'q0', 'q1', 'q2', 'q3'}, {'q0', 'q1', 'q2', 'q3'}, {'q0', 'q1', 'q2', 'q3'}, {'q0', 'q1', 'q2', 'q3'}, {'q0', 'q2', 'q3'}, {'q0', 'q1', 'q3'}, {'q0', 'q2'}, {'q0', 'q3'}])\n"
     ]
    }
   ],
   "source": [
    "# Prueba:\n",
    "print (\"Es aceptada:?\",checker(\"1111110100\",nfa2))"
   ]
  },
  {
   "cell_type": "markdown",
   "metadata": {},
   "source": [
    "- <b>Ejemplo C</b><br>\n",
    "Se desea diseñar un AFND que acepte el lenguaje\n",
    " \n",
    "$$L=\\{w \\mid w \\text{  contiene a 101 como subcadena}\\}$$"
   ]
  },
  {
   "cell_type": "markdown",
   "metadata": {},
   "source": [
    "<br>\n",
    "<div style=\"text-align:center; font-style: italic;\" class=\"image\">\n",
    "<img src=\"files/AFND03.png\" width=600px>\n",
    "<br>\n",
    "<div>Figura 4. Diagrama de transiciones del AFND 3</div>\n",
    "</div>\n",
    "<br>"
   ]
  },
  {
   "cell_type": "markdown",
   "metadata": {},
   "source": [
    "A continuación se presenta el código del autómata que acepta el lenguaje del AFND 3:"
   ]
  },
  {
   "cell_type": "markdown",
   "metadata": {},
   "source": [
    "El método de validación es el mismo que el de validación para los DFA, es por ello que definimos nuevamente la función **checker** para los NFA de la siguiente manera:"
   ]
  },
  {
   "cell_type": "code",
   "execution_count": 39,
   "metadata": {
    "collapsed": true
   },
   "outputs": [],
   "source": [
    "nfa3 = NFA(\n",
    "    states={'q0', 'q1', 'q2','q3'},\n",
    "    input_symbols={'0', '1'},\n",
    "    transitions={\n",
    "        'q0': {'0': {'q0'}, '1': {'q0','q1'}}, # Conjunto de estados de transición\n",
    "        'q1': {'0': {'q2'}},\n",
    "        'q2': {'1':{'q3'}},\n",
    "        'q3': {'0':{'q3'},'1':{'q3'}}\n",
    "    },\n",
    "    initial_state='q0',\n",
    "    final_states={'q3'}\n",
    ")"
   ]
  },
  {
   "cell_type": "code",
   "execution_count": 40,
   "metadata": {
    "collapsed": false
   },
   "outputs": [
    {
     "name": "stdout",
     "output_type": "stream",
     "text": [
      "Es aceptada:? ('La cadena es aceptada: sus estados visitados fueron:', [{'q0'}, {'q0'}, {'q0'}, {'q0', 'q1'}, {'q0', 'q2'}, {'q0', 'q1', 'q3'}, {'q0', 'q2', 'q3'}])\n"
     ]
    }
   ],
   "source": [
    "# Prueba:\n",
    "print (\"Es aceptada:?\",checker(\"001010\",nfa3))"
   ]
  },
  {
   "cell_type": "markdown",
   "metadata": {},
   "source": [
    "## Implementaciones utilizando CLASES en Python\n",
    "\n",
    "A continuación se describen las implementaciones de los tres ejercicios presentados anteriormente, pero utilizando otro tipo de implementación. \n",
    "\n"
   ]
  },
  {
   "cell_type": "markdown",
   "metadata": {},
   "source": [
    "#### Ejemplo A"
   ]
  },
  {
   "cell_type": "code",
   "execution_count": 1,
   "metadata": {
    "collapsed": false
   },
   "outputs": [
    {
     "name": "stdout",
     "output_type": "stream",
     "text": [
      "Es aceptada?: True\n"
     ]
    }
   ],
   "source": [
    "\n",
    "#CREDITOS:\n",
    "#Ben W. Reichardt, Ph.D\n",
    "#University of Southern California\n",
    "#http://www-bcf.usc.edu/~breichar/teaching/2011cs360/\n",
    "#http://www-bcf.usc.edu/~breichar/teaching/2011cs360/NFAtoDFA.py\n",
    "#\n",
    "\n",
    "class AFND1: \n",
    "    # se define la clase AFND1\n",
    "    def __init__(self, transitionFunction, initialState, finalStates):\n",
    "        self.transicion = transitionFunction\t\n",
    "        self.q0 = initialState\n",
    "        self.F = set(finalStates)\n",
    "    #Funcion de transicion\n",
    "    def deltaHat(self, state, inputString):\n",
    "        states = set([state])\n",
    "        for a in inputString: \n",
    "            newStates = set([])\n",
    "            for state in states: \n",
    "                try: \n",
    "                    newStates = newStates | self.transicion[state][a]\n",
    "                except KeyError: pass\n",
    "            states = newStates\n",
    "        return states\n",
    "    #Evaluamos si la palabra pertenece al lenguaje\n",
    "    def inLanguage(self, inputString):\n",
    "        return len(self.deltaHat(self.q0, inputString) & self.F) > 0\n",
    "\n",
    "\n",
    "transicion={\n",
    "    'q0':{'0':set(['q0','q1']),'1':set(['q0'])}, \n",
    "    'q1':{'1':set(['q2'])}\n",
    "}\n",
    "\n",
    "#AFND1(transicion, estado_inicial, estado_aceptacion)\n",
    "N = AFND1(transicion, 'q0', ['q2'])\n",
    "\n",
    "# Prueba:\n",
    "print (\"Es aceptada?:\",N.inLanguage(\"01010001\"))"
   ]
  },
  {
   "cell_type": "markdown",
   "metadata": {},
   "source": [
    "### Ejemplo B"
   ]
  },
  {
   "cell_type": "code",
   "execution_count": 2,
   "metadata": {
    "collapsed": false
   },
   "outputs": [
    {
     "name": "stdout",
     "output_type": "stream",
     "text": [
      "Es aceptada:? True\n"
     ]
    }
   ],
   "source": [
    "#\n",
    "#CREDITOS:\n",
    "#Ben W. Reichardt, Ph.D\n",
    "#University of Southern California\n",
    "#http://www-bcf.usc.edu/~breichar/teaching/2011cs360/\n",
    "#http://www-bcf.usc.edu/~breichar/teaching/2011cs360/NFAtoDFA.py\n",
    "#\n",
    "\n",
    "class AFND2: \n",
    "    # se define la clase AFND2\n",
    "    def __init__(self, transitionFunction, initialState, finalStates):\n",
    "        self.transicion = transitionFunction\t\n",
    "        self.q0 = initialState\n",
    "        self.F = set(finalStates)\n",
    "    #Funcion de transicion\n",
    "    def deltaHat(self, state, inputString):\n",
    "        states = set([state])\n",
    "        for a in inputString: \n",
    "            newStates = set([])\n",
    "            for state in states: \n",
    "                try: \n",
    "                    newStates = newStates | self.transicion[state][a]\n",
    "                except KeyError: pass\n",
    "            states = newStates\n",
    "        return states\n",
    "    #Evaluamos si la palabra pertenece al lenguaje\n",
    "    def inLanguage(self, inputString):\n",
    "        return len(self.deltaHat(self.q0, inputString) & self.F) > 0\n",
    "\n",
    "\n",
    "transicion={\n",
    "    'q0':{'0':set(['q0']),'1':set(['q0','q1'])}, \n",
    "    'q1':{'0':set(['q2']),'1':set(['q2'])}, \n",
    "    'q2':{'0':set(['q3']),'1':set(['q3'])}\n",
    "}\n",
    "\n",
    "#AFND2(transicion, estado_inicial, estado_aceptacion)\n",
    "N = AFND2(transicion, 'q0', ['q3'])\n",
    "\n",
    "# Prueba:\n",
    "print (\"Es aceptada:?\",N.inLanguage(\"1111110100\"))"
   ]
  },
  {
   "cell_type": "markdown",
   "metadata": {},
   "source": [
    "\n",
    "#### Ejemplo C"
   ]
  },
  {
   "cell_type": "code",
   "execution_count": 3,
   "metadata": {
    "collapsed": false
   },
   "outputs": [
    {
     "name": "stdout",
     "output_type": "stream",
     "text": [
      "Es aceptada?: True\n"
     ]
    }
   ],
   "source": [
    "#\n",
    "#CREDITOS:\n",
    "#Ben W. Reichardt, Ph.D\n",
    "#University of Southern California\n",
    "#http://www-bcf.usc.edu/~breichar/teaching/2011cs360/\n",
    "#http://www-bcf.usc.edu/~breichar/teaching/2011cs360/NFAtoDFA.py\n",
    "#\n",
    "\n",
    "class AFND3: \n",
    "    # se define la clase AFND3\n",
    "    def __init__(self, transitionFunction, initialState, finalStates):\n",
    "        self.transicion = transitionFunction\t\n",
    "        self.q0 = initialState\n",
    "        self.F = set(finalStates)\n",
    "    #Funcion de transicion\n",
    "    def deltaHat(self, state, inputString):\n",
    "        states = set([state])\n",
    "        for a in inputString: \n",
    "            newStates = set([])\n",
    "            for state in states: \n",
    "                try: \n",
    "                    newStates = newStates | self.transicion[state][a]   #union de conjuntos\n",
    "                except KeyError: pass\n",
    "            states = newStates\n",
    "        return states\n",
    "    #Evaluamos si la palabra pertenece al lenguaje\n",
    "    def inLanguage(self, inputString):\n",
    "        return len(self.deltaHat(self.q0, inputString) & self.F) > 0\n",
    "\n",
    "#funcion de transicion\n",
    "transicion={\n",
    "    'q0':{'0':set(['q0']),'1':set(['q0','q1'])}, \n",
    "    'q1':{'0':set(['q2'])},\n",
    "    'q2':{'1':set(['q3'])},\n",
    "    'q3':{'0':set(['q3']),'1':set(['q3'])}\n",
    "}\n",
    "\n",
    "#AFND3(transicion, estado_inicial, estado_aceptacion)\n",
    "N = AFND3(transicion, 'q0', ['q3'])\n",
    "\n",
    "# Prueba:\n",
    "print (\"Es aceptada?:\",N.inLanguage(\"001010\"))"
   ]
  }
 ],
 "metadata": {
  "kernelspec": {
   "display_name": "Python 3",
   "language": "python",
   "name": "python3"
  },
  "language_info": {
   "codemirror_mode": {
    "name": "ipython",
    "version": 3
   },
   "file_extension": ".py",
   "mimetype": "text/x-python",
   "name": "python",
   "nbconvert_exporter": "python",
   "pygments_lexer": "ipython3",
   "version": "3.6.2"
  }
 },
 "nbformat": 4,
 "nbformat_minor": 0
}
