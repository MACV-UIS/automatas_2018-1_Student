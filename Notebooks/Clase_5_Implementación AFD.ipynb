{
 "cells": [
  {
   "cell_type": "markdown",
   "metadata": {},
   "source": [
    "# Implementación Autómatas finitos deterministas (AFD)\n",
    "\n",
    "**Autómatas y Lenguajes Formales**\n",
    "\n",
    "**Profesor: Fabio Martínez**\n",
    "\n",
    "**Escuela de Ingeniería de Sistemas e Informática**   "
   ]
  },
  {
   "cell_type": "markdown",
   "metadata": {},
   "source": [
    "## Autómata Finito Determinista (AFD)"
   ]
  },
  {
   "cell_type": "markdown",
   "metadata": {},
   "source": [
    "### Implementación Manual autómata finito determinista"
   ]
  },
  {
   "cell_type": "markdown",
   "metadata": {},
   "source": [
    "- <b>Ejemplo A</b><br>\n",
    "Se desea diseñar un AFD que acepte el lenguaje\n",
    " \n",
    "$$L=\\{w \\mid w \\text{ tiene un número par de ceros y un número par de unos}\\}$$\n",
    "\n",
    "La tarea de los estados de este AFD es la de contar el número de ceros y el número de unos contando en módulo $2$. Es decir, el estado se emplea para recordar si el número de ceros es par o impar hasta el momento y también para recordar si el número de unos leídos hasta el momento es par o impar. Existen por tanto cuatro estados que pueden interpretarse de la manera siguiente:\n",
    "- $q_0$: tanto el número de ceros como el de unos leídos hasta el momento es par. \n",
    "- $q_1$: el número de ceros leídos hasta el momento es par, pero el de unos es impar.\n",
    "- $q_2$: tanto el número de ceros como el de unos leídos hasta el momento es impar.\n",
    "- $q_3$: el número de unos leídos hasta el momento es par, pero el de ceros es impar.\n",
    "\n",
    "El estado $q_0$ es tanto el estado incial como el único estado de aceptación. Es el estado inicial porque antes\n",
    "de leer ninguna entrada, la cantidad de ceros y unos leídos hasta el momento es igual a cero y cero es par. Es\n",
    "el único estado de aceptación porque describe de forma exacta la condición para que una secuencia de ceros y\n",
    "unos pertenezca al lenguaje $L$.\n",
    "\n",
    "Ahora ya sabemos cómo especificar el AFD para el lenguaje $L$. Así\n",
    "\n",
    "$$A=(\\{q_0,q_1,q_2,q_3\\},\\{0,1\\},\\delta,q_0,\\{q_0\\})$$\n",
    "\n",
    "donde la función de transición $\\delta$ se describe mediante el diagrama de transiciones de la siguiente figura"
   ]
  },
  {
   "cell_type": "markdown",
   "metadata": {},
   "source": [
    "<div style=\"text-align:center; font-style: italic;\" class=\"image\">\n",
    "<img src=\"files/AFD1.png\" width=300px>\n",
    "<div>Figura 1. Diagrama de transiciones del AFD 1</div>\n",
    "</div>"
   ]
  },
  {
   "cell_type": "code",
   "execution_count": 2,
   "metadata": {
    "collapsed": false
   },
   "outputs": [
    {
     "name": "stdout",
     "output_type": "stream",
     "text": [
      "Es aceptada?: False\n"
     ]
    }
   ],
   "source": [
    "transicion={\n",
    "       ('q0','1'):'q1',\n",
    "       ('q0','0'):'q3',\n",
    "       ('q1','1'):'q0',\n",
    "       ('q1','0'):'q2',\n",
    "       ('q2','1'):'q3',\n",
    "       ('q2','0'):'q1',\n",
    "       ('q3','1'):'q2',\n",
    "       ('q3','0'):'q0'}\n",
    "\n",
    "estado_aceptacion=['q0'] # estado de aceptacion\n",
    "\n",
    "def AFD2(cadena,estado_actual,transicion,estado_aceptacion): # se define la función\n",
    "    if cadena == \"\": # cuando no encuentra nada\n",
    "        return estado_actual in estado_aceptacion # si la cadena es ∅, entonces la función retorna True\n",
    "    else:\n",
    "        letra = cadena[0] # comienza con el primer caracter\n",
    "        if(estado_actual,letra)in transicion:  # compara (estado_actual,letra) se encuentra en la tabla de transiciones\n",
    "            estado_destino = transicion[(estado_actual,letra)]  # si es así, el estado destino tendra el nuevo valor estado\n",
    "            cadena_restante = cadena[1:] # recorre los demás caracteres\n",
    "            return AFD2(cadena_restante,estado_destino,transicion,estado_aceptacion) # recursividad\n",
    "        else:\n",
    "            return False # si la cadena no es aceptada por el autómata, retorna False\n",
    "\n",
    "# Prueba:\n",
    "print(\"Es aceptada?:\",AFD2(\"1102011\",'q0',transicion,estado_aceptacion))"
   ]
  },
  {
   "cell_type": "markdown",
   "metadata": {},
   "source": [
    "- <b>Ejemplo B</b><br>\n",
    "AFD para búsqueda de cadenas**\n",
    "\n",
    "Una de las aplicaciones más importantes de los AFD es la búsqueda de patrones en cadenas. Esta premisa es el corazón de los motores de búsqueda en internet como Google. El siguiente AFD es un ejemplo básico de una herramienta de este tipo sobre el alfabeto $\\Sigma=\\{a,b\\}$. Acepta las cadenas de entrada que contengan el patrón $aabaaabb$ como una subcadena."
   ]
  },
  {
   "cell_type": "markdown",
   "metadata": {},
   "source": [
    "<div style=\"text-align:center; font-style: italic;\" class=\"image\">\n",
    "<img src=\"files/AFD2.png\" width=900px>\n",
    "<div>Figura 2. Diagrama de transiciones del AFD 2</div>\n",
    "</div>"
   ]
  },
  {
   "cell_type": "markdown",
   "metadata": {},
   "source": [
    "### Implemente el autómata de la Fig 2 utilizando el esquema explicado anteriormente. \n",
    "#### Compruebe su funcionamiento con la palabra: aaabaaabb"
   ]
  },
  {
   "cell_type": "markdown",
   "metadata": {},
   "source": [
    "- <b>Ejemplo C</b><br>\n",
    "AFD para reconocer expresiones aritméticas\n",
    "\n",
    "El siguiente autómata está en la capacidad de definir si la entrada ingresada es una expresión aritmética de la forma: $$((dígito)^{*}\\cdot operador\\cdot (dígito)^{*})^{*}$$\n",
    "\n",
    "Se define la quíntupla como $A=(\\{q_0,q_1,q_2,q_3\\},\\{+,-,*,/,0,1,2,3,4,5,6,7,8,9\\},\\delta,q_0,\\{q_3\\})$"
   ]
  },
  {
   "cell_type": "markdown",
   "metadata": {},
   "source": [
    "<div style=\"text-align:center; font-style: italic;\" class=\"image\">\n",
    "<img src=\"files/AFD3.png\" width=600px>\n",
    "<div>Figura 3. Diagrama de transiciones del AFD 3</div>\n",
    "</div>"
   ]
  },
  {
   "cell_type": "code",
   "execution_count": 3,
   "metadata": {
    "collapsed": false
   },
   "outputs": [
    {
     "name": "stdout",
     "output_type": "stream",
     "text": [
      "Es aceptada?: True\n"
     ]
    }
   ],
   "source": [
    "def val(x):\n",
    "    if x in [str(d) for d in range(10)]:\n",
    "        return 'digito'\n",
    "    elif x in ['+','-','*','/']:\n",
    "        return 'operador'\n",
    "\n",
    "transicion={\n",
    "       ('q0','digito'):'q1',\n",
    "       ('q1','digito'):'q1',\n",
    "       ('q1','operador'):'q2',\n",
    "       ('q2','digito'):'q3',\n",
    "       ('q3','operador'):'q2',\n",
    "       ('q3','digito'):'q3',\n",
    "            }\n",
    "estado_aceptacion=['q3'] # estado de aceptacion\n",
    "\n",
    "def AFD3(cadena,estado_actual,transicion,estado_aceptacion): # se define la función\n",
    "    if cadena == \"\": # cuando no encuentra nada\n",
    "        return estado_actual in estado_aceptacion # si la cadena es ∅, entonces la función retorna True\n",
    "    else:\n",
    "        letra = cadena[0] # comienza con el primer caracter\n",
    "        if(estado_actual,val(letra))in transicion:  # compara (estado_actual,letra) se encuentra en la tabla de transiciones\n",
    "            estado_destino = transicion[(estado_actual,val(letra))]  # si es así, el estado destino tendra el nuevo valor estado\n",
    "            cadena_restante = cadena[1:] # recorre los demás caracteres\n",
    "            return AFD3(cadena_restante,estado_destino,transicion,estado_aceptacion) # recursividad\n",
    "        else:\n",
    "            return False # si la cadena no es aceptada por el autómata, retorna False\n",
    "\n",
    "# Prueba:\n",
    "print(\"Es aceptada?:\",AFD3(\"12+32+4444*4888/7\",'q0',transicion,estado_aceptacion))\n"
   ]
  },
  {
   "cell_type": "markdown",
   "metadata": {
    "collapsed": true
   },
   "source": [
    "## Implementación usando automata-lib "
   ]
  },
  {
   "cell_type": "markdown",
   "metadata": {},
   "source": [
    "Se implementarán los mismos ejercicios pero útilizando la librería automata-lib"
   ]
  },
  {
   "cell_type": "markdown",
   "metadata": {},
   "source": [
    "Para implementar el autómata finito determinista es necesario hacer el llamado a la función **DFA** pasando como argumentos:\n",
    "- states: Estados del autómata definidos como cadenas\n",
    "- input_symbols: Simbolos que generan las transiciones representados como cadenas\n",
    "- transitions: Un diccinario con las transiciones para cada estado, aquí la clave será el estado en el que se posicione y el valor otro diccionario con las respectivas transiciones posibles.\n",
    "- initial_state: El estado inicial representado como string\n",
    "- final_states: Un conjunto de estados finales o de aceptación separadas por comas y como strings"
   ]
  },
  {
   "cell_type": "markdown",
   "metadata": {},
   "source": [
    "Un ejemplo de implementación de autómata-lib desarrollando los ejercicio anteriores."
   ]
  },
  {
   "cell_type": "code",
   "execution_count": 2,
   "metadata": {
    "collapsed": false
   },
   "outputs": [],
   "source": [
    "from automatalib.fa.dfa import DFA"
   ]
  },
  {
   "cell_type": "markdown",
   "metadata": {},
   "source": [
    "**Implementación ejercicio 1**"
   ]
  },
  {
   "cell_type": "code",
   "execution_count": 4,
   "metadata": {
    "collapsed": false
   },
   "outputs": [],
   "source": [
    "dfa1 = DFA(\n",
    "    states={'q0', 'q1', 'q2', 'q3'},\n",
    "    input_symbols={'0', '1'},\n",
    "    transitions={\n",
    "        'q0': {'0': 'q3', '1': 'q1'},\n",
    "        'q1': {'0': 'q2', '1': 'q0'},\n",
    "        'q2': {'0': 'q1', '1': 'q3'},\n",
    "        'q3': {'0': 'q0', '1': 'q2'}\n",
    "        \n",
    "    },\n",
    "    initial_state='q0',\n",
    "    final_states={'q0'}\n",
    ")"
   ]
  },
  {
   "cell_type": "markdown",
   "metadata": {},
   "source": [
    "Para validar el autómata implementado se hace mediante la el método **validate_input** del objeto **DFA** instanciado,pasando como argumento la cadena a evaluar en formato string"
   ]
  },
  {
   "cell_type": "code",
   "execution_count": 7,
   "metadata": {
    "collapsed": false
   },
   "outputs": [
    {
     "name": "stdout",
     "output_type": "stream",
     "text": [
      "q0\n"
     ]
    }
   ],
   "source": [
    "# Ejemplo, retorna el estado final en caso de estar bien implementado el autómata, caso contrario devuelve un error\n",
    "print(dfa1.validate_input('11'))"
   ]
  },
  {
   "cell_type": "code",
   "execution_count": 8,
   "metadata": {
    "collapsed": false
   },
   "outputs": [
    {
     "ename": "RejectionError",
     "evalue": "the DFA stopped on a non-final state (q1)",
     "output_type": "error",
     "traceback": [
      "\u001b[0;31m---------------------------------------------------------------------------\u001b[0m",
      "\u001b[0;31mRejectionError\u001b[0m                            Traceback (most recent call last)",
      "\u001b[0;32m<ipython-input-8-b804a7b3bfaf>\u001b[0m in \u001b[0;36m<module>\u001b[0;34m()\u001b[0m\n\u001b[0;32m----> 1\u001b[0;31m \u001b[0mprint\u001b[0m\u001b[0;34m(\u001b[0m\u001b[0mdfa1\u001b[0m\u001b[0;34m.\u001b[0m\u001b[0mvalidate_input\u001b[0m\u001b[0;34m(\u001b[0m\u001b[0;34m'111'\u001b[0m\u001b[0;34m)\u001b[0m\u001b[0;34m)\u001b[0m\u001b[0;34m\u001b[0m\u001b[0m\n\u001b[0m",
      "\u001b[0;32m~/.conda/envs/python36/lib/python3.6/site-packages/automata/shared/automaton.py\u001b[0m in \u001b[0;36mvalidate_input\u001b[0;34m(self, input_str, step)\u001b[0m\n\u001b[1;32m     46\u001b[0m             \u001b[0;32mreturn\u001b[0m \u001b[0mself\u001b[0m\u001b[0;34m.\u001b[0m\u001b[0m_validate_input_yield\u001b[0m\u001b[0;34m(\u001b[0m\u001b[0minput_str\u001b[0m\u001b[0;34m)\u001b[0m\u001b[0;34m\u001b[0m\u001b[0m\n\u001b[1;32m     47\u001b[0m         \u001b[0;32melse\u001b[0m\u001b[0;34m:\u001b[0m\u001b[0;34m\u001b[0m\u001b[0m\n\u001b[0;32m---> 48\u001b[0;31m             \u001b[0;32mreturn\u001b[0m \u001b[0mself\u001b[0m\u001b[0;34m.\u001b[0m\u001b[0m_validate_input_return\u001b[0m\u001b[0;34m(\u001b[0m\u001b[0minput_str\u001b[0m\u001b[0;34m)\u001b[0m\u001b[0;34m\u001b[0m\u001b[0m\n\u001b[0m\u001b[1;32m     49\u001b[0m \u001b[0;34m\u001b[0m\u001b[0m\n\u001b[1;32m     50\u001b[0m     \u001b[0;32mdef\u001b[0m \u001b[0m_validate_initial_state\u001b[0m\u001b[0;34m(\u001b[0m\u001b[0mself\u001b[0m\u001b[0;34m)\u001b[0m\u001b[0;34m:\u001b[0m\u001b[0;34m\u001b[0m\u001b[0m\n",
      "\u001b[0;32m~/.conda/envs/python36/lib/python3.6/site-packages/automata/shared/automaton.py\u001b[0m in \u001b[0;36m_validate_input_return\u001b[0;34m(self, input_str)\u001b[0m\n\u001b[1;32m     32\u001b[0m         \"\"\"\n\u001b[1;32m     33\u001b[0m         \u001b[0mvalidation_generator\u001b[0m \u001b[0;34m=\u001b[0m \u001b[0mself\u001b[0m\u001b[0;34m.\u001b[0m\u001b[0m_validate_input_yield\u001b[0m\u001b[0;34m(\u001b[0m\u001b[0minput_str\u001b[0m\u001b[0;34m)\u001b[0m\u001b[0;34m\u001b[0m\u001b[0m\n\u001b[0;32m---> 34\u001b[0;31m         \u001b[0;32mfor\u001b[0m \u001b[0mconfig\u001b[0m \u001b[0;32min\u001b[0m \u001b[0mvalidation_generator\u001b[0m\u001b[0;34m:\u001b[0m\u001b[0;34m\u001b[0m\u001b[0m\n\u001b[0m\u001b[1;32m     35\u001b[0m             \u001b[0;32mpass\u001b[0m\u001b[0;34m\u001b[0m\u001b[0m\n\u001b[1;32m     36\u001b[0m         \u001b[0;32mreturn\u001b[0m \u001b[0mconfig\u001b[0m\u001b[0;34m\u001b[0m\u001b[0m\n",
      "\u001b[0;32m~/.conda/envs/python36/lib/python3.6/site-packages/automata/fa/dfa.py\u001b[0m in \u001b[0;36m_validate_input_yield\u001b[0;34m(self, input_str)\u001b[0m\n\u001b[1;32m    112\u001b[0m             \u001b[0;32myield\u001b[0m \u001b[0mcurrent_state\u001b[0m\u001b[0;34m\u001b[0m\u001b[0m\n\u001b[1;32m    113\u001b[0m \u001b[0;34m\u001b[0m\u001b[0m\n\u001b[0;32m--> 114\u001b[0;31m         \u001b[0mself\u001b[0m\u001b[0;34m.\u001b[0m\u001b[0m_check_for_input_rejection\u001b[0m\u001b[0;34m(\u001b[0m\u001b[0mcurrent_state\u001b[0m\u001b[0;34m)\u001b[0m\u001b[0;34m\u001b[0m\u001b[0m\n\u001b[0m\u001b[1;32m    115\u001b[0m \u001b[0;34m\u001b[0m\u001b[0m\n\u001b[1;32m    116\u001b[0m     \u001b[0;32mdef\u001b[0m \u001b[0m_init_from_dfa\u001b[0m\u001b[0;34m(\u001b[0m\u001b[0mself\u001b[0m\u001b[0;34m,\u001b[0m \u001b[0mdfa\u001b[0m\u001b[0;34m)\u001b[0m\u001b[0;34m:\u001b[0m\u001b[0;34m\u001b[0m\u001b[0m\n",
      "\u001b[0;32m~/.conda/envs/python36/lib/python3.6/site-packages/automata/fa/dfa.py\u001b[0m in \u001b[0;36m_check_for_input_rejection\u001b[0;34m(self, current_state)\u001b[0m\n\u001b[1;32m     96\u001b[0m             raise exceptions.RejectionError(\n\u001b[1;32m     97\u001b[0m                 'the DFA stopped on a non-final state ({})'.format(\n\u001b[0;32m---> 98\u001b[0;31m                     current_state))\n\u001b[0m\u001b[1;32m     99\u001b[0m \u001b[0;34m\u001b[0m\u001b[0m\n\u001b[1;32m    100\u001b[0m     \u001b[0;32mdef\u001b[0m \u001b[0m_validate_input_yield\u001b[0m\u001b[0;34m(\u001b[0m\u001b[0mself\u001b[0m\u001b[0;34m,\u001b[0m \u001b[0minput_str\u001b[0m\u001b[0;34m)\u001b[0m\u001b[0;34m:\u001b[0m\u001b[0;34m\u001b[0m\u001b[0m\n",
      "\u001b[0;31mRejectionError\u001b[0m: the DFA stopped on a non-final state (q1)"
     ]
    }
   ],
   "source": [
    "print(dfa1.validate_input('111'))"
   ]
  },
  {
   "cell_type": "markdown",
   "metadata": {},
   "source": [
    "Para manejar los errores se hace necesario utilizar las palabras del lenguaje python para manejo de excepciones las cuales son ***try** y **except** y retorna porque es el error"
   ]
  },
  {
   "cell_type": "code",
   "execution_count": 9,
   "metadata": {
    "collapsed": false
   },
   "outputs": [
    {
     "name": "stdout",
     "output_type": "stream",
     "text": [
      "Entrada no valida: \n",
      " the DFA stopped on a non-final state (q1)\n"
     ]
    }
   ],
   "source": [
    "try:\n",
    "    dfa1.validate_input('111') #11\n",
    "except Exception as e:\n",
    "        print(\"Entrada no valida: \\n\", e)   \n",
    "        "
   ]
  },
  {
   "cell_type": "markdown",
   "metadata": {},
   "source": [
    "Si al método **validate_input** se le pasa el valor **step=True** este me retornará la secuencia de estado que visita en caso de ser aceptada la cadena, de lo contrario dará una excepción"
   ]
  },
  {
   "cell_type": "code",
   "execution_count": 12,
   "metadata": {
    "collapsed": false
   },
   "outputs": [
    {
     "data": {
      "text/plain": [
       "['q0', 'q1', 'q0', 'q3', 'q0', 'q1', 'q2', 'q3', 'q0']"
      ]
     },
     "execution_count": 12,
     "metadata": {},
     "output_type": "execute_result"
    }
   ],
   "source": [
    "list(dfa1.validate_input('11001010', step=True))"
   ]
  },
  {
   "cell_type": "markdown",
   "metadata": {},
   "source": [
    "Viendo lo anterior se exploran las posibles excepciones para un autómata"
   ]
  },
  {
   "cell_type": "code",
   "execution_count": 14,
   "metadata": {
    "collapsed": true
   },
   "outputs": [],
   "source": [
    "import automata.shared.exceptions as exceptions"
   ]
  },
  {
   "cell_type": "code",
   "execution_count": 16,
   "metadata": {
    "collapsed": false
   },
   "outputs": [
    {
     "data": {
      "text/plain": [
       "['AutomatonError',\n",
       " 'FinalStateError',\n",
       " 'InitialStateError',\n",
       " 'InvalidStateError',\n",
       " 'InvalidSymbolError',\n",
       " 'MissingStateError',\n",
       " 'MissingSymbolError',\n",
       " 'RejectionError',\n",
       " '__builtins__',\n",
       " '__cached__',\n",
       " '__doc__',\n",
       " '__file__',\n",
       " '__loader__',\n",
       " '__name__',\n",
       " '__package__',\n",
       " '__spec__']"
      ]
     },
     "execution_count": 16,
     "metadata": {},
     "output_type": "execute_result"
    }
   ],
   "source": [
    "dir(exceptions)"
   ]
  },
  {
   "cell_type": "markdown",
   "metadata": {},
   "source": [
    "la siguiente función nos ayudará a validar si una cadena es aceptada mostrando los estados por los que paso y en caso contrario capturará el error por el cual la cadena no es aceptada"
   ]
  },
  {
   "cell_type": "code",
   "execution_count": 28,
   "metadata": {
    "collapsed": false
   },
   "outputs": [
    {
     "data": {
      "text/plain": [
       "('La cadena es aceptada: sus estados visitados fueron:', ['q0', 'q1', 'q0'])"
      ]
     },
     "execution_count": 28,
     "metadata": {},
     "output_type": "execute_result"
    }
   ],
   "source": [
    "def checker(cadena,DFA):\n",
    "    try:\n",
    "        DFA.validate_input(cadena)\n",
    "        return \"La cadena es aceptada: sus estados visitados fueron:\",[step for step in DFA.validate_input(cadena, step=True)]\n",
    "    except Exception as e:\n",
    "        print(\"Entrada no valida: \\n\", e)  \n",
    "    \n",
    "checker('11',dfa1)  "
   ]
  },
  {
   "cell_type": "markdown",
   "metadata": {},
   "source": [
    "**Implementación ejercicio 2**"
   ]
  },
  {
   "cell_type": "markdown",
   "metadata": {},
   "source": [
    "<div style=\"text-align:center; font-style: italic;\" class=\"image\">\n",
    "<img src=\"files/AFD2.png\" width=900px>\n",
    "<div>Figura 2. Diagrama de transiciones del AFD 2</div>\n",
    "</div>"
   ]
  },
  {
   "cell_type": "markdown",
   "metadata": {},
   "source": [
    "Implemente el autómata de la Figura 2 utilizando la libreria automata-lib"
   ]
  },
  {
   "cell_type": "code",
   "execution_count": 87,
   "metadata": {
    "collapsed": false
   },
   "outputs": [
    {
     "data": {
      "text/plain": [
       "('La cadena es aceptada: sus estados visitados fueron:',\n",
       " ['q0', 'q1', 'q2', 'q2', 'q3', 'q4', 'q5', 'q6', 'q7', 'q8'])"
      ]
     },
     "execution_count": 87,
     "metadata": {},
     "output_type": "execute_result"
    }
   ],
   "source": [
    "checker('aaabaaabb',dfa2)"
   ]
  },
  {
   "cell_type": "markdown",
   "metadata": {},
   "source": [
    "**Implementación ejercicio 3**"
   ]
  },
  {
   "cell_type": "code",
   "execution_count": 88,
   "metadata": {
    "collapsed": false
   },
   "outputs": [],
   "source": [
    "dfa3 = DFA(\n",
    "    states={'q0', 'q1', 'q2', 'q3'},\n",
    "    input_symbols={'digito', 'operador'},\n",
    "    transitions={\n",
    "        'q0': {'digito': 'q1'},\n",
    "        'q1': {'digito': 'q1', 'operador': 'q2'},\n",
    "        'q2': {'digito': 'q3'},\n",
    "        'q3': {'digito': 'q3', 'operador': 'q2'}\n",
    "        \n",
    "    },\n",
    "    initial_state='q0',\n",
    "    final_states={'q3'}\n",
    ")"
   ]
  },
  {
   "cell_type": "code",
   "execution_count": 91,
   "metadata": {
    "collapsed": false
   },
   "outputs": [],
   "source": [
    "def val(x):\n",
    "    if x in [str(d) for d in range(10)]:\n",
    "        return 'digito'\n",
    "    elif x in ['+','-','*','/']:\n",
    "        return 'operador'\n",
    "    \n",
    "# linea de transformación\n",
    "cadena = [ val(i) for i in '11+11+1*3-']"
   ]
  },
  {
   "cell_type": "code",
   "execution_count": 92,
   "metadata": {
    "collapsed": false
   },
   "outputs": [
    {
     "name": "stdout",
     "output_type": "stream",
     "text": [
      "Entrada no valida: \n",
      " the DFA stopped on a non-final state (q2)\n"
     ]
    }
   ],
   "source": [
    "checker(cadena,dfa3)"
   ]
  }
 ],
 "metadata": {
  "kernelspec": {
   "display_name": "Python 3",
   "language": "python",
   "name": "python3"
  },
  "language_info": {
   "codemirror_mode": {
    "name": "ipython",
    "version": 3
   },
   "file_extension": ".py",
   "mimetype": "text/x-python",
   "name": "python",
   "nbconvert_exporter": "python",
   "pygments_lexer": "ipython3",
   "version": "3.6.2"
  }
 },
 "nbformat": 4,
 "nbformat_minor": 0
}
