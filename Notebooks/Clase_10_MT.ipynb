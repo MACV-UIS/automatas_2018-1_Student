{
 "cells": [
  {
   "cell_type": "markdown",
   "metadata": {},
   "source": [
    "# Máquinas de Turing (MT)\n",
    "\n",
    "**Autómatas y Lenguajes Formales**\n",
    "\n",
    "**Profesor: Fabio Martínez**\n",
    "\n",
    "**Escuela de Ingeniería de Sistemas e Informática**   "
   ]
  },
  {
   "cell_type": "markdown",
   "metadata": {},
   "source": [
    "## Máquinas de Turing (*TM* )"
   ]
  },
  {
   "cell_type": "markdown",
   "metadata": {},
   "source": [
    "En eeste taller presentamos la librería [automata](https://pypi.python.org/pypi/automata-lib/1.0.0.post3) de **python 3** permite trabajar con Máquinas de Turing. Típicamente trabaja con máquinas de turing simples, con una sola sinta y una unidad de contral con un único estado. Inicialmente, tenemos que cargar la libreria con el paquete especial _dtm_ que permite manejar y simular las MT. "
   ]
  },
  {
   "cell_type": "code",
   "execution_count": null,
   "metadata": {
    "collapsed": true
   },
   "outputs": [],
   "source": [
    "from automatalib.tm.dtm import DTM"
   ]
  },
  {
   "cell_type": "markdown",
   "metadata": {},
   "source": [
    "### **Ejemplo **\n",
    "\n",
    "La siguiente máquina de Turing acepta el lenguaje de las cadenas con un número par de ceros sobre el alfabeto:\n",
    "$\\sum = {\\{0,1}\\}$"
   ]
  },
  {
   "cell_type": "markdown",
   "metadata": {},
   "source": [
    "<div style=\"text-align:center; font-style: italic;\" class=\"image\">\n",
    "<img src=\"files/tm_2.png\" width=500px> \n",
    "<br>\n",
    "<div>Figura. Diagrama de estados de TM que acepta palabras con un número par de ceros</div>\n",
    "</div>\n",
    "<br>"
   ]
  },
  {
   "cell_type": "markdown",
   "metadata": {},
   "source": [
    "A continuación se muestra el esquema de código que representa la máquina de Turing que reconoce palabras que tienen un número par de enteros. Definimos simbolo de cinta, simbolos de entrada, estados y funciones de transición. \n",
    "\n",
    "- Las funciones de transición se representan como: \n",
    "\n",
    "\n",
    "'q0': {\n",
    "            '1': ('q0', '1', 'R')\n",
    "      }\n",
    "      \n",
    "      \n",
    "Que representa $\\delta(q_0, 1) = (q_0, 1, ->)$. \n",
    "\n",
    "A continuación se muestra el ejemplo implementado. "
   ]
  },
  {
   "cell_type": "code",
   "execution_count": null,
   "metadata": {
    "collapsed": false
   },
   "outputs": [],
   "source": [
    "dtm2 = DTM(\n",
    "    states={'q0', 'q1', 'q2'},\n",
    "    input_symbols={'0', '1'},\n",
    "    tape_symbols={'0', '1', '.'}, #El punto se usa para limpiar el símbolo de la cinta\n",
    "    transitions={\n",
    "        'q0': {\n",
    "            '1': ('q0', '1', 'R'),\n",
    "            '0': ('q1', '0', 'R'),\n",
    "            '.': ('q2', '.', 'R')\n",
    "        },\n",
    "        'q1': {\n",
    "            '0': ('q0', '0', 'R'),\n",
    "            '1': ('q1', '1', 'R')\n",
    "        }\n",
    "    },\n",
    "    initial_state='q0',\n",
    "    blank_symbol='.',\n",
    "    final_states={'q2'}\n",
    ")"
   ]
  },
  {
   "cell_type": "markdown",
   "metadata": {},
   "source": [
    "Al igual que con otros autómatas podemos verificar el funcionamiento general de la maquina de turing, como: "
   ]
  },
  {
   "cell_type": "code",
   "execution_count": null,
   "metadata": {
    "collapsed": false
   },
   "outputs": [],
   "source": [
    "dtm2.validate_input('001')"
   ]
  },
  {
   "cell_type": "code",
   "execution_count": null,
   "metadata": {
    "collapsed": false
   },
   "outputs": [],
   "source": [
    "dtm2.validate_input('100000000001')"
   ]
  },
  {
   "cell_type": "markdown",
   "metadata": {},
   "source": [
    "También podemos simular la máquina de Turing paso a paso, como descripciones instantaneas. Tal como se muestra a continuación_ "
   ]
  },
  {
   "cell_type": "code",
   "execution_count": null,
   "metadata": {
    "collapsed": false
   },
   "outputs": [],
   "source": [
    "[(state, tape.copy()) for state, tape in dtm2.validate_input('100000000001', step=True)]\n"
   ]
  },
  {
   "cell_type": "markdown",
   "metadata": {},
   "source": [
    "---"
   ]
  },
  {
   "cell_type": "markdown",
   "metadata": {},
   "source": [
    "### **Ejemplo **\n",
    "\n",
    "Diseñe una Máquina de Turing que acepte el lenguaje:\n",
    "\n",
    "$L=\\{0^n 1^n \\mid n\\gt0 \\} $"
   ]
  },
  {
   "cell_type": "markdown",
   "metadata": {},
   "source": [
    "<div style=\"text-align:center; font-style: italic;\" class=\"image\">\n",
    "<img src=\"files/TM_1.png\" width=500px> \n",
    "<br>\n",
    "<div>Figura 1. Diagrama de estados de TM No.1</div>\n",
    "</div>\n",
    "<br>"
   ]
  },
  {
   "cell_type": "code",
   "execution_count": null,
   "metadata": {
    "collapsed": true
   },
   "outputs": [],
   "source": [
    "dtm = DTM(\n",
    "    states={'q0', 'q1', 'q2', 'q3', 'q4'},\n",
    "    input_symbols={'0', '1'},\n",
    "    tape_symbols={'0', '1', 'x', 'y', '.'}, #El punto se usa para limpiar el símbolo de la cinta\n",
    "    transitions={\n",
    "        'q0': {\n",
    "            '0': ('q1', 'x', 'R'),\n",
    "            'y': ('q3', 'y', 'R')\n",
    "        },\n",
    "        'q1': {\n",
    "            '0': ('q1', '0', 'R'),\n",
    "            '1': ('q2', 'y', 'L'),\n",
    "            'y': ('q1', 'y', 'R')\n",
    "        },\n",
    "        'q2': {\n",
    "            '0': ('q2', '0', 'L'),\n",
    "            'x': ('q0', 'x', 'R'),\n",
    "            'y': ('q2', 'y', 'L')\n",
    "        },\n",
    "        'q3': {\n",
    "            'y': ('q3', 'y', 'R'),\n",
    "            '.': ('q4', '.', 'R')\n",
    "        }\n",
    "    },\n",
    "    initial_state='q0',\n",
    "    blank_symbol='.',\n",
    "    final_states={'q4'}\n",
    ")"
   ]
  },
  {
   "cell_type": "markdown",
   "metadata": {},
   "source": [
    "El método **validate_input** sirve para validar las cadenas "
   ]
  },
  {
   "cell_type": "markdown",
   "metadata": {},
   "source": [
    "Si la cadena es aceptada devuelve una tupla que contiene el estado donde se detuvo la máquina"
   ]
  },
  {
   "cell_type": "code",
   "execution_count": null,
   "metadata": {
    "collapsed": false
   },
   "outputs": [],
   "source": [
    "dtm.validate_input('01')\n"
   ]
  },
  {
   "cell_type": "code",
   "execution_count": null,
   "metadata": {
    "collapsed": false
   },
   "outputs": [],
   "source": [
    "dtm.validate_input('0011')\n"
   ]
  },
  {
   "cell_type": "code",
   "execution_count": null,
   "metadata": {
    "collapsed": false
   },
   "outputs": [],
   "source": [
    "dtm.validate_input('000111')"
   ]
  },
  {
   "cell_type": "code",
   "execution_count": null,
   "metadata": {
    "collapsed": false
   },
   "outputs": [],
   "source": [
    "[(state, tape.copy()) for state, tape in dtm.validate_input('000111', step=True)]"
   ]
  },
  {
   "cell_type": "markdown",
   "metadata": {},
   "source": [
    "Si la cadena no es aceptada el método lanza un error"
   ]
  },
  {
   "cell_type": "code",
   "execution_count": null,
   "metadata": {
    "collapsed": false
   },
   "outputs": [],
   "source": [
    "dtm.validate_input('001')"
   ]
  },
  {
   "cell_type": "markdown",
   "metadata": {},
   "source": [
    "#### **Ejemplo 3**\n",
    "\n",
    "Construye una máquina de turing que acepta el lenguaje $L=\\{a^i b^i c^i :i\\geq0 \\} $ y que se detiene al procesar todas las entradas. Por consiguiente, $L$ es un lenguaje recursivo pero no $LIC$, es decir $L$ no puede ser aceptado por ningún autómata con pila "
   ]
  },
  {
   "cell_type": "code",
   "execution_count": null,
   "metadata": {
    "collapsed": true
   },
   "outputs": [],
   "source": [
    "dtm3 = DTM(\n",
    ")"
   ]
  },
  {
   "cell_type": "code",
   "execution_count": null,
   "metadata": {
    "collapsed": false
   },
   "outputs": [],
   "source": [
    "dtm3.validate_input('aabbcc')"
   ]
  },
  {
   "cell_type": "code",
   "execution_count": null,
   "metadata": {
    "collapsed": false
   },
   "outputs": [],
   "source": [
    "dtm3.validate_input('aaaaaabbbbbbcccccc')"
   ]
  },
  {
   "cell_type": "markdown",
   "metadata": {},
   "source": [
    "### Ejercicio\n",
    "\n",
    "Diseñe una máquina de Turing que reconozca el siguiente lenguaje $L= \\{ uu^{R} | u \\in \\{a, b\\}^{*} \\}$"
   ]
  },
  {
   "cell_type": "code",
   "execution_count": null,
   "metadata": {
    "collapsed": false
   },
   "outputs": [],
   "source": [
    "from automatalib.tm.dtm import DTM\n",
    "dtm4 = DTM(\n",
    ")"
   ]
  },
  {
   "cell_type": "code",
   "execution_count": null,
   "metadata": {
    "collapsed": false
   },
   "outputs": [],
   "source": [
    "dtm4.validate_input('Baabbaa')"
   ]
  },
  {
   "cell_type": "code",
   "execution_count": null,
   "metadata": {
    "collapsed": false
   },
   "outputs": [],
   "source": [
    "[(state, tape.copy()) for state, tape in dtm4.validate_input('Baabbaa', step=True)]"
   ]
  },
  {
   "cell_type": "markdown",
   "metadata": {},
   "source": [
    "[1] Implementación de una Máquina de Turing universal: https://rosettacode.org/wiki/Universal_Turing_machine\n",
    "\n",
    "[2] Libreria en Python para máquinas de Turing: https://pypi.python.org/pypi/turing_machine"
   ]
  }
 ],
 "metadata": {
  "kernelspec": {
   "display_name": "Python 3",
   "language": "python",
   "name": "python3"
  },
  "language_info": {
   "codemirror_mode": {
    "name": "ipython",
    "version": 3
   },
   "file_extension": ".py",
   "mimetype": "text/x-python",
   "name": "python",
   "nbconvert_exporter": "python",
   "pygments_lexer": "ipython3",
   "version": "3.6.2"
  }
 },
 "nbformat": 4,
 "nbformat_minor": 0
}
