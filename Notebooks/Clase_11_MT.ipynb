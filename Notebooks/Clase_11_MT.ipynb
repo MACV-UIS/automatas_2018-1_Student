{
 "cells": [
  {
   "cell_type": "markdown",
   "metadata": {},
   "source": [
    "<div style=\"text-align:left; font-style: italic;\" class=\"image\">\n",
    "<img src=\"./IMG/EISI.png\" width=1050px>\n",
    "</div>\n",
    "# Autómatas y Lenguajes Formales\n",
    "\n",
    "### Profesor: Fabio Martínez"
   ]
  },
  {
   "cell_type": "markdown",
   "metadata": {},
   "source": [
    "## Máquinas de Turing (*TM* )"
   ]
  },
  {
   "cell_type": "markdown",
   "metadata": {},
   "source": [
    "La librería [automata](https://pypi.python.org/pypi/automata-lib/1.0.0.post3) de **python 3** permite trabajar con Máquinas de Turing"
   ]
  },
  {
   "cell_type": "code",
   "execution_count": 2,
   "metadata": {
    "collapsed": true
   },
   "outputs": [],
   "source": [
    "from automatalib.tm.dtm import DTM"
   ]
  },
  {
   "cell_type": "markdown",
   "metadata": {
    "collapsed": true
   },
   "source": [
    "## Máquinas de turing para el cálculo de funciones de enteros"
   ]
  },
  {
   "cell_type": "markdown",
   "metadata": {},
   "source": [
    "### Ejercicio suma unaria\n",
    "Desarollar una máquina de turing que cálcule la función suma $s(n,m)=n+m$ con $n.m\\geq1$, en el sistema unario.  \n",
    "La función recibe entradas $1^{n}01^{m}$ y se debe generar la sálida $1^{n+m}$."
   ]
  },
  {
   "cell_type": "markdown",
   "metadata": {},
   "source": [
    "<div style=\"text-align:center; font-style: italic;\" class=\"image\">\n",
    "<img src=\"files/tmf1.png\" width=800px> \n",
    "<br>\n",
    "<div>Figura 4. Diagrama de estados de TM para cálculo de la suma unaria</div>\n",
    "</div>\n",
    "<br>"
   ]
  },
  {
   "cell_type": "code",
   "execution_count": 3,
   "metadata": {
    "collapsed": true
   },
   "outputs": [],
   "source": [
    "dtm4 = DTM(\n",
    "    states={'q0', 'q1', 'q2', 'q3', 'qf'},\n",
    "    input_symbols={'1', '0'},\n",
    "    tape_symbols={'1', '0','.'}, #El punto se usa para limpiar el símbolo de la cinta es indicado por la letra b\n",
    "    transitions={\n",
    "        'q0': {\n",
    "            '1': ('q0', '1', 'R'),\n",
    "            '0': ('q1', '1', 'R')\n",
    "        },\n",
    "        'q1': {\n",
    "            '1': ('q1', '1', 'R'),\n",
    "            '.': ('q2', '.', 'L')\n",
    "        },\n",
    "        'q2': {\n",
    "            '1': ('q3', '.', 'L')\n",
    "        },\n",
    "        'q3': {\n",
    "            '1': ('q3', '1', 'L'),\n",
    "            '.': ('qf', '.', 'R')\n",
    "        }\n",
    "    },\n",
    "    initial_state='q0',\n",
    "    blank_symbol='.',\n",
    "    final_states={'qf'}\n",
    ")"
   ]
  },
  {
   "cell_type": "code",
   "execution_count": 6,
   "metadata": {},
   "outputs": [
    {
     "data": {
      "text/plain": [
       "('qf', TMTape('.111111..'))"
      ]
     },
     "execution_count": 6,
     "metadata": {},
     "output_type": "execute_result"
    }
   ],
   "source": [
    "dtm4.validate_input('1110111')"
   ]
  },
  {
   "cell_type": "code",
   "execution_count": 7,
   "metadata": {},
   "outputs": [
    {
     "data": {
      "text/plain": [
       "[('q0', TMTape('1110111')),\n",
       " ('q0', TMTape('1110111')),\n",
       " ('q0', TMTape('1110111')),\n",
       " ('q0', TMTape('1110111')),\n",
       " ('q1', TMTape('1111111')),\n",
       " ('q1', TMTape('1111111')),\n",
       " ('q1', TMTape('1111111')),\n",
       " ('q1', TMTape('1111111')),\n",
       " ('q2', TMTape('1111111.')),\n",
       " ('q3', TMTape('111111..')),\n",
       " ('q3', TMTape('111111..')),\n",
       " ('q3', TMTape('111111..')),\n",
       " ('q3', TMTape('111111..')),\n",
       " ('q3', TMTape('111111..')),\n",
       " ('q3', TMTape('111111..')),\n",
       " ('q3', TMTape('111111..')),\n",
       " ('qf', TMTape('.111111..'))]"
      ]
     },
     "execution_count": 7,
     "metadata": {},
     "output_type": "execute_result"
    }
   ],
   "source": [
    "[(state, tape.copy()) for state, tape in dtm4.validate_input('1110111', step=True)]"
   ]
  },
  {
   "cell_type": "markdown",
   "metadata": {},
   "source": [
    "---"
   ]
  },
  {
   "cell_type": "markdown",
   "metadata": {},
   "source": [
    "### Ejercicio resta propia"
   ]
  },
  {
   "cell_type": "markdown",
   "metadata": {},
   "source": [
    "Desarrollar una máquina de turing que cálcule la función resta propia dada de la siguiente manera:\n",
    "- Cada entero se representa por un único caracter  \n",
    "- $m-n=max(m-n,0)$ es $m-n$ si $m \\geq n$ cero en otro caso.\n",
    "- La cinta inicia con un conjunto de valores $0^{m}10^{n}$  \n",
    "- La máquina para cuando el contenido de la cinta es $0^{max(m-n,0)}$"
   ]
  },
  {
   "cell_type": "markdown",
   "metadata": {},
   "source": [
    "<div style=\"text-align:center; font-style: italic;\" class=\"image\">\n",
    "<img src=\"files/tmf2.png\" width=800px> \n",
    "<br>\n",
    "<div>Figura 5. Diagrama de estados de TM para cálculo de la resta propia</div>\n",
    "</div>\n",
    "<br>"
   ]
  },
  {
   "cell_type": "code",
   "execution_count": 9,
   "metadata": {
    "collapsed": true
   },
   "outputs": [],
   "source": [
    "from automata.tm.dtm import DTM\n",
    "dtm5 = DTM(\n",
    "    states={'q0', 'q1', 'q2', 'q3', 'q4','q5','q6'},\n",
    "    input_symbols={'0', '1'},\n",
    "    tape_symbols={'0', '1','.'}, #El punto se usa para limpiar el símbolo de la cinta\n",
    "    transitions={\n",
    "        'q0': {\n",
    "            '1': ('q5', '.', 'R'),\n",
    "            '0': ('q1', '.', 'R')\n",
    "        },\n",
    "        'q1': {\n",
    "            '0': ('q1', '0', 'R'),\n",
    "            '1': ('q2', '1', 'R')\n",
    "        },\n",
    "        'q2': {\n",
    "            '1': ('q2', '1', 'R'),\n",
    "            '0': ('q3', '1', 'L'),\n",
    "            '.': ('q4', '.', 'L')\n",
    "        },\n",
    "        'q3': {\n",
    "            '0': ('q3', '0', 'L'),\n",
    "            '1': ('q3', '1', 'L'),\n",
    "            '.': ('q0', '.', 'R')\n",
    "        },\n",
    "        'q4': {\n",
    "            '0': ('q4', '0', 'L'),\n",
    "            '.': ('q6', '0', 'R'),\n",
    "            '1': ('q4', '.', 'L')\n",
    "            \n",
    "        },\n",
    "        'q5': {\n",
    "            '0': ('q5', '.', 'R'),\n",
    "            '.': ('q6', '.', 'R'),\n",
    "            '1': ('q5', '.', 'R')\n",
    "            \n",
    "        }\n",
    "    },\n",
    "    initial_state='q0',\n",
    "    blank_symbol='.',\n",
    "    final_states={'q6'}\n",
    ")"
   ]
  },
  {
   "cell_type": "code",
   "execution_count": 10,
   "metadata": {},
   "outputs": [
    {
     "data": {
      "text/plain": [
       "('q6', TMTape('........'))"
      ]
     },
     "execution_count": 10,
     "metadata": {},
     "output_type": "execute_result"
    }
   ],
   "source": [
    "dtm5.validate_input('0001000')"
   ]
  },
  {
   "cell_type": "code",
   "execution_count": 11,
   "metadata": {},
   "outputs": [
    {
     "data": {
      "text/plain": [
       "[('q0', TMTape('001')),\n",
       " ('q1', TMTape('.01')),\n",
       " ('q1', TMTape('.01')),\n",
       " ('q2', TMTape('.01')),\n",
       " ('q4', TMTape('.01.')),\n",
       " ('q4', TMTape('.0..')),\n",
       " ('q4', TMTape('.0..')),\n",
       " ('q6', TMTape('00..'))]"
      ]
     },
     "execution_count": 11,
     "metadata": {},
     "output_type": "execute_result"
    }
   ],
   "source": [
    "[(state, tape.copy()) for state, tape in dtm5.validate_input('001', step=True)]"
   ]
  },
  {
   "cell_type": "markdown",
   "metadata": {},
   "source": [
    "---"
   ]
  },
  {
   "cell_type": "markdown",
   "metadata": {},
   "source": [
    "### Maquina de Turing de Multiples Pistas y almacenamiento de estado"
   ]
  },
  {
   "cell_type": "markdown",
   "metadata": {},
   "source": [
    "### MT con Almacenamiento de estado\n",
    "\n",
    "En el siguiente ejercicio se implementa una MT que reconoce el lenguaje $L= \\{ 01^{*}+ 10^{*}\\}$. \n",
    "Para ella aprovechamos la capacidad de almacenar un dato en la unidad de control y luego recorrer la cinta. "
   ]
  },
  {
   "cell_type": "code",
   "execution_count": 19,
   "metadata": {
    "collapsed": true
   },
   "outputs": [],
   "source": [
    "from automata.tm.dtm import DTM\n",
    "dtm6 = DTM(\n",
    "    states={'[q0,B]', '[q1,0]', '[q1,1]', '[q1,B]'},\n",
    "    input_symbols={'1', '0'},\n",
    "    tape_symbols={'1', '0','B'}, #El punto se usa para limpiar el símbolo de la cinta es indicado por la letra b\n",
    "    transitions={\n",
    "        '[q0,B]': {\n",
    "            '1': ('[q1,1]', '1', 'R'),\n",
    "            '0': ('[q1,0]', '0', 'R')\n",
    "        },\n",
    "        '[q1,0]': {\n",
    "            '1': ('[q1,0]', '1', 'R'),\n",
    "            'B': ('[q1,B]', 'B', 'R')\n",
    "        },\n",
    "        '[q1,1]': {\n",
    "            '0': ('[q1,1]', '0', 'R'),\n",
    "            'B': ('[q1,B]', 'B', 'R')\n",
    "        }\n",
    "    },\n",
    "    initial_state='[q0,B]',\n",
    "    blank_symbol='B',\n",
    "    final_states={'[q1,B]'}\n",
    ")"
   ]
  },
  {
   "cell_type": "code",
   "execution_count": 20,
   "metadata": {},
   "outputs": [
    {
     "data": {
      "text/plain": [
       "('[q1,B]', TMTape('011111111111111B'))"
      ]
     },
     "execution_count": 20,
     "metadata": {},
     "output_type": "execute_result"
    }
   ],
   "source": [
    "dtm6.validate_input('011111111111111')"
   ]
  },
  {
   "cell_type": "code",
   "execution_count": 21,
   "metadata": {},
   "outputs": [
    {
     "data": {
      "text/plain": [
       "[('[q0,B]', TMTape('011111111111111')),\n",
       " ('[q1,0]', TMTape('011111111111111')),\n",
       " ('[q1,0]', TMTape('011111111111111')),\n",
       " ('[q1,0]', TMTape('011111111111111')),\n",
       " ('[q1,0]', TMTape('011111111111111')),\n",
       " ('[q1,0]', TMTape('011111111111111')),\n",
       " ('[q1,0]', TMTape('011111111111111')),\n",
       " ('[q1,0]', TMTape('011111111111111')),\n",
       " ('[q1,0]', TMTape('011111111111111')),\n",
       " ('[q1,0]', TMTape('011111111111111')),\n",
       " ('[q1,0]', TMTape('011111111111111')),\n",
       " ('[q1,0]', TMTape('011111111111111')),\n",
       " ('[q1,0]', TMTape('011111111111111')),\n",
       " ('[q1,0]', TMTape('011111111111111')),\n",
       " ('[q1,0]', TMTape('011111111111111')),\n",
       " ('[q1,0]', TMTape('011111111111111')),\n",
       " ('[q1,B]', TMTape('011111111111111B'))]"
      ]
     },
     "execution_count": 21,
     "metadata": {},
     "output_type": "execute_result"
    }
   ],
   "source": [
    "[(state, tape.copy()) for state, tape in dtm6.validate_input('011111111111111', step=True)]"
   ]
  },
  {
   "cell_type": "code",
   "execution_count": 22,
   "metadata": {},
   "outputs": [
    {
     "data": {
      "text/plain": [
       "('[q1,B]', TMTape('10000000000000B'))"
      ]
     },
     "execution_count": 22,
     "metadata": {},
     "output_type": "execute_result"
    }
   ],
   "source": [
    "dtm6.validate_input('10000000000000')"
   ]
  },
  {
   "cell_type": "code",
   "execution_count": 23,
   "metadata": {},
   "outputs": [
    {
     "data": {
      "text/plain": [
       "[('[q0,B]', TMTape('10000000000000')),\n",
       " ('[q1,1]', TMTape('10000000000000')),\n",
       " ('[q1,1]', TMTape('10000000000000')),\n",
       " ('[q1,1]', TMTape('10000000000000')),\n",
       " ('[q1,1]', TMTape('10000000000000')),\n",
       " ('[q1,1]', TMTape('10000000000000')),\n",
       " ('[q1,1]', TMTape('10000000000000')),\n",
       " ('[q1,1]', TMTape('10000000000000')),\n",
       " ('[q1,1]', TMTape('10000000000000')),\n",
       " ('[q1,1]', TMTape('10000000000000')),\n",
       " ('[q1,1]', TMTape('10000000000000')),\n",
       " ('[q1,1]', TMTape('10000000000000')),\n",
       " ('[q1,1]', TMTape('10000000000000')),\n",
       " ('[q1,1]', TMTape('10000000000000')),\n",
       " ('[q1,1]', TMTape('10000000000000')),\n",
       " ('[q1,B]', TMTape('10000000000000B'))]"
      ]
     },
     "execution_count": 23,
     "metadata": {},
     "output_type": "execute_result"
    }
   ],
   "source": [
    "[(state, tape.copy()) for state, tape in dtm6.validate_input('10000000000000', step=True)]"
   ]
  },
  {
   "cell_type": "markdown",
   "metadata": {},
   "source": [
    "----"
   ]
  },
  {
   "cell_type": "markdown",
   "metadata": {},
   "source": [
    "### MT con Almacenamiento de estado\n",
    "\n",
    "Desarrolle una MT con dos pistas y almacene hasta un simbolo en la unidad de control para que copie una palabra $w_1w_2w_3c$ una vez. "
   ]
  },
  {
   "cell_type": "markdown",
   "metadata": {},
   "source": [
    "---"
   ]
  },
  {
   "cell_type": "markdown",
   "metadata": {},
   "source": [
    "#### Limitaciones de automata-lib\n",
    "\n",
    "A pesar de la amplia gama de simulaciones que soporta la libreria de ___automata-lib___ , existen limitaciones para representar maquinas de turing multi-cinta. Estas MT sin embargo las podemos modelar, implementar y simular utilizando JFLAP. \n",
    "\n",
    "A continuación se propone un ejercicio multicinta. "
   ]
  },
  {
   "cell_type": "markdown",
   "metadata": {},
   "source": [
    "#### Ejercicio multi-cinta propuesto. \n",
    "\n",
    "Diseñar una MT con dos cintas que acepte el lenguaje: $L=\\{ a^{i}b^{i}c^{i}: i \\geq 0 \\}$"
   ]
  },
  {
   "cell_type": "code",
   "execution_count": null,
   "metadata": {
    "collapsed": true
   },
   "outputs": [],
   "source": [
    "# Adjunte las imagenes de JFLAP del modelo propuesto y la simulación"
   ]
  },
  {
   "cell_type": "markdown",
   "metadata": {},
   "source": [
    "## Referencias\n",
    "\n",
    "[1] Implementación de una Máquina de Turing universal: https://rosettacode.org/wiki/Universal_Turing_machine\n",
    "\n",
    "[2] Libreria en Python para máquinas de Turing: https://pypi.python.org/pypi/turing_machine\n",
    "\n",
    "[2] Simulador de la Máquina de Turing https://turingmachinesimulator.com/ \n",
    "\n",
    "[2] Simulador de la máquina de Turing en C++ https://github.com/fcortes/turing-machine-simulator \n",
    "\n",
    "[2] Otras implementaciones https://github.com/topics/turing-machine \n"
   ]
  }
 ],
 "metadata": {
  "kernelspec": {
   "display_name": "Python 3",
   "language": "python",
   "name": "python3"
  },
  "language_info": {
   "codemirror_mode": {
    "name": "ipython",
    "version": 3
   },
   "file_extension": ".py",
   "mimetype": "text/x-python",
   "name": "python",
   "nbconvert_exporter": "python",
   "pygments_lexer": "ipython3",
   "version": "3.5.2"
  }
 },
 "nbformat": 4,
 "nbformat_minor": 1
}
