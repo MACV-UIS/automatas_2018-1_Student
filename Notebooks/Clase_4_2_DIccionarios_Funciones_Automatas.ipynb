{
 "cells": [
  {
   "cell_type": "markdown",
   "metadata": {},
   "source": [
    "## Diccionarios y funciones\n",
    "\n",
    "** Profesor: Fabio Martínez** \n",
    "\n",
    "contacto: famarcar@saber.uis.edu.co\n",
    "\n",
    "Página web: [Web Autómatas](https://sites.google.com/saber.uis.edu.co/famarcar/automatas)"
   ]
  },
  {
   "cell_type": "markdown",
   "metadata": {},
   "source": [
    "## Autómatas y Diccionarios\n",
    "\n",
    "Los autómatas son modelos teóricos y discretos que permiten problemas computables utilizando una estrategia de codificación y simulación de palabras utilizando: **estados** e **impulsos**\n",
    "\n",
    "\n",
    "<img src=\"SimplestAuto.png\" width=500 title=\"Teoría de autómatas\">\n",
    "\n",
    "\n",
    "[FSM Designer](http://madebyevan.com/fsm/)\n",
    "\n",
    "\n",
    "- Tenemos que saber para un **estado particular** y un **impulso** hacia donde el autómata debe moverse. \n",
    "- Debemos diseñar funciones que nos permitan codificar la lógica de un autómata. Dada una entrada, generar una salida (típicamente la verificación de un lenguaje)\n",
    "- No necesitamos un orden particular, para las relaciones *** estado- impulso *** (Diccionario)\n",
    "\n",
    "\n"
   ]
  },
  {
   "cell_type": "markdown",
   "metadata": {},
   "source": [
    "## Funciones\n",
    "\n",
    "Es un grupo de instancias relacionadas que realizan una tarea específica. la sintaxys de una función en *** python *** es: \n",
    "```\n",
    "def function_name(parameters):\n",
    "\t\"\"\"docstring\"\"\"\n",
    "\tstatement(s)\n",
    "    return # optional. \n",
    "```\n"
   ]
  },
  {
   "cell_type": "code",
   "execution_count": 9,
   "metadata": {
    "collapsed": false
   },
   "outputs": [
    {
     "name": "stdout",
     "output_type": "stream",
     "text": [
      "Bienvenido a autómatas Juan!\n",
      "None\n",
      " Esta función saluda al nombre que se pasa como parametro\n"
     ]
    }
   ],
   "source": [
    "def saludo(nombre):\n",
    "    \"\"\" Esta función saluda al nombre que se pasa como parametro\"\"\"\n",
    "    print(\"Bienvenido a autómatas \" + nombre + \"!\")\n",
    "    \n",
    "print (saludo(\"Juan\"))\n",
    "print(saludo.__doc__)"
   ]
  },
  {
   "cell_type": "code",
   "execution_count": 18,
   "metadata": {
    "collapsed": false
   },
   "outputs": [
    {
     "name": "stdout",
     "output_type": "stream",
     "text": [
      "Hola Maria\n",
      "None\n",
      "Hola Maria\n",
      "None\n",
      "adios Maria\n",
      "None\n"
     ]
    }
   ],
   "source": [
    "def saludo(nombre, saludo):\n",
    "    print(saludo + \" \" + nombre)\n",
    "print(saludo(\"Maria\", \"Hola\"))\n",
    "#print(saludo(\"Maria\"))\n",
    "\n",
    "def saludo_2(nombre, saludo=\"adios\"):\n",
    "    print(saludo + \" \" + nombre)\n",
    "print(saludo_2(\"Maria\", \"Hola\"))\n",
    "#print(saludo_2(\"Maria\"))"
   ]
  },
  {
   "cell_type": "markdown",
   "metadata": {},
   "source": [
    "**Funciones recursivas**\n",
    "\n",
    "Una función que se llama asi misma. Resulta fundamental para el desarrollo de autómatas y máquinas de turing. La lógica en los autómatas son definir unas reglas (**estado-estimulo**) y correrlas sobre la misma lógica, i.e., **de forma recursiva**"
   ]
  },
  {
   "cell_type": "code",
   "execution_count": 19,
   "metadata": {
    "collapsed": false
   },
   "outputs": [
    {
     "name": "stdout",
     "output_type": "stream",
     "text": [
      "('The factorial of', 4, 'is', 24)\n"
     ]
    }
   ],
   "source": [
    "def calc_factorial(x):\n",
    "    \"\"\"This is a recursive function\n",
    "    to find the factorial of an integer\"\"\"\n",
    "\n",
    "    if x == 1:\n",
    "        return 1\n",
    "    else:\n",
    "        return (x * calc_factorial(x-1))\n",
    "\n",
    "num = 4\n",
    "print(\"The factorial of\", num, \"is\", calc_factorial(num))"
   ]
  },
  {
   "cell_type": "markdown",
   "metadata": {},
   "source": [
    "**La condición de base es ```x==1```**. Ese criterio es de parada, para que la función se ejecute de forma finita, como los ** autómatas finitos **\n",
    "\n",
    "-***Ventajas***\n",
    "    -Códigos claros y \"limpios\"\n",
    "    -Una tarea compleja puede sub-dividirse en sub-problemas de recursión. **Divide y venceras!**\n",
    "    -Generación de secuencias son faciles de generar. **Una palabra es una secuencia de letras**\n",
    "-***Desventajas***\n",
    "    -La lógica de recursión es algunas veces dificil de seguir. \n",
    "    -LLamados recursivos pueden ser costosos en memoria para un número muy grande de datos. \n"
   ]
  },
  {
   "cell_type": "markdown",
   "metadata": {},
   "source": [
    "** Funciones anonimas **\n",
    "\n",
    "Son definidas sin un nombre. utiles para procedimientos rápidos. Son llamadas funciones **lambda**\n",
    "\n",
    "\n",
    "<img src=\"python-anonymous-lambda-function.jpg\" width=500 title=\"Funciones Lambda\">\n",
    "\n",
    "\n",
    "\n",
    "```\n",
    "lambda arguments: expression\n",
    "```\n"
   ]
  },
  {
   "cell_type": "code",
   "execution_count": 22,
   "metadata": {
    "collapsed": false
   },
   "outputs": [
    {
     "name": "stdout",
     "output_type": "stream",
     "text": [
      "10\n",
      "[4, 6, 8, 12]\n",
      "[2, 10, 8, 12, 16, 22, 6, 24]\n"
     ]
    }
   ],
   "source": [
    "#Ejemplo 1 \n",
    "double = lambda x: x * 2\n",
    "print(double(5))\n",
    "\n",
    "#Ejemplo 2: with filter: True\n",
    "\n",
    "my_list = [1, 5, 4, 6, 8, 11, 3, 12]\n",
    "\n",
    "new_list = list(filter(lambda x: (x%2 == 0) , my_list))\n",
    "print(new_list)\n",
    "\n",
    "#Ejemplo 3: with map()\n",
    "my_list = [1, 5, 4, 6, 8, 11, 3, 12]\n",
    "new_list = list(map(lambda x: x * 2 , my_list))\n",
    "print(new_list)\n"
   ]
  },
  {
   "cell_type": "markdown",
   "metadata": {},
   "source": [
    "## Diccionarios\n",
    "\n",
    " un diccionario es una colección **no-ordenada** de valores que son accedidos a traves de una **clave**, que: \n",
    "     -No se accede mediante un índice numérico (listas, tuplas), sino a través de sus claves\n",
    "     -No existe un orden particular, ni por clave, ni por valor, ni por el orden en que se adicionan los datos\n",
    "     -Puede contener listas, cadenas, tuplas y otros diccionarios.  \n",
    "     -La busqueda se realiza utilizando un alogritmo ***hash***: \"sin importar cuántos elementos tenga el     \n",
    "      diccionario, el tiempo de búsqueda es siempre aproximadamente igual\"\n",
    "\n",
    "**Definiendo un diccionario:**"
   ]
  },
  {
   "cell_type": "code",
   "execution_count": 1,
   "metadata": {
    "collapsed": true
   },
   "outputs": [],
   "source": [
    "punto = {'x': 2, 'y': 1, 'z': 4}"
   ]
  },
  {
   "cell_type": "markdown",
   "metadata": {},
   "source": [
    "** Para declararlo vacío y luego ingresar los valores: **"
   ]
  },
  {
   "cell_type": "code",
   "execution_count": 3,
   "metadata": {
    "collapsed": false
   },
   "outputs": [
    {
     "name": "stdout",
     "output_type": "stream",
     "text": [
      "[6103, 7540]\n"
     ]
    }
   ],
   "source": [
    "materias = {}\n",
    "materias[\"lunes\"] = [6103, 7540]\n",
    "materias[\"martes\"] = [6201]\n",
    "materias[\"miércoles\"] = [6103, 7540]\n",
    "materias[\"jueves\"] = []\n",
    "materias[\"viernes\"] = [6201]\n",
    "\n",
    "#accedo a un determinado valor usando la clave: \n",
    "print materias[\"lunes\"]"
   ]
  },
  {
   "cell_type": "markdown",
   "metadata": {},
   "source": [
    "Puedo averiguar si existe una clave en mi diccionario, sin que me genere error: "
   ]
  },
  {
   "cell_type": "code",
   "execution_count": 4,
   "metadata": {
    "collapsed": false
   },
   "outputs": [
    {
     "name": "stdout",
     "output_type": "stream",
     "text": [
      "None\n"
     ]
    }
   ],
   "source": [
    "print materias.get(\"domingo\")"
   ]
  },
  {
   "cell_type": "markdown",
   "metadata": {},
   "source": [
    "** Diversas formas de recorrer un diccionario.**"
   ]
  },
  {
   "cell_type": "code",
   "execution_count": 5,
   "metadata": {
    "collapsed": false
   },
   "outputs": [
    {
     "name": "stdout",
     "output_type": "stream",
     "text": [
      "lunes : [6103, 7540]\n",
      "miércoles : [6103, 7540]\n",
      "jueves : []\n",
      "martes : [6201]\n",
      "viernes : [6201]\n"
     ]
    }
   ],
   "source": [
    "for dia in materias:\n",
    "   print dia, \":\", materias[dia]"
   ]
  },
  {
   "cell_type": "code",
   "execution_count": 6,
   "metadata": {
    "collapsed": false
   },
   "outputs": [
    {
     "name": "stdout",
     "output_type": "stream",
     "text": [
      "lunes : [6103, 7540]\n",
      "miércoles : [6103, 7540]\n",
      "jueves : []\n",
      "martes : [6201]\n",
      "viernes : [6201]\n"
     ]
    }
   ],
   "source": [
    "#Tuplas:el primer elemento es la clave y el segundo el valor\n",
    "for dia, codigos in materias.items():\n",
    "   print dia, \":\", codigos"
   ]
  },
  {
   "cell_type": "code",
   "execution_count": 9,
   "metadata": {
    "collapsed": false
   },
   "outputs": [
    {
     "name": "stdout",
     "output_type": "stream",
     "text": [
      "12\n",
      "7\n",
      "True\n",
      "False\n"
     ]
    }
   ],
   "source": [
    "# función has_key:si una clave se encuentra en el diccionario\n",
    "\n",
    "d = {'x': 12, 'y': 7}\n",
    "if d.has_key('x'):\n",
    "   print d['x']   # Imprime 12\n",
    "if d.has_key('z'):\n",
    "   print d['z']   # No se ejecuta\n",
    "if 'y' in d:\n",
    "   print d['y']   # Imprime 7\n",
    "\n",
    "print(d.has_key('x'))\n",
    "print(d.has_key('z'))"
   ]
  },
  {
   "cell_type": "markdown",
   "metadata": {},
   "source": [
    "** Metodos adicionales: **\n",
    "\n",
    "```\n",
    "dict()\n",
    "``` -> recibe una representación de diccionario y devuelve la estructura de diccionario codificada.\n",
    "Ej:  ```dic =  dict(nombre='nestor', apellido='Plasencia', edad=22)```\n",
    "\n",
    "```\n",
    "zip()\n",
    "```\n",
    "    -> Recibe dos parametros iterables del mismo tamaño y se devuelve un diccionario relacionando el elemento i-esimo de cada uno de los iterables.\n",
    "    Ej: ```dic = dict(zip('abcd',[1,2,3,4]))```\n",
    "\n",
    "```\n",
    "items()\n",
    "```\n",
    "    -> Convierte el diccionario en una lista de tuplas de dos elementos: el primero será la clave y el segundo, su valor.\n",
    "\n",
    " ```   \n",
    "dic =   {‘a’ : 1, ’b’ : 2, ‘c’ : 3 , ‘d’ : 4}\n",
    "items = dic.items()\n",
    "```\n",
    "\n",
    "** update() **\n",
    "\n",
    "\n",
    "Recibe como parámetro otro diccionario. Si se tienen claves iguales, actualiza el valor de la clave repetida; si no el par clave-valor es agregado al diccionario."
   ]
  },
  {
   "cell_type": "code",
   "execution_count": 5,
   "metadata": {
    "collapsed": false
   },
   "outputs": [
    {
     "name": "stdout",
     "output_type": "stream",
     "text": [
      "{'a': 1, 'c': 6, 'b': 5, 'e': 9, 'd': 4, 'f': 10}\n"
     ]
    }
   ],
   "source": [
    "dic_1 = {'a' : 1, 'b' : 2, 'c' : 3 , 'd' : 4}\n",
    "dic_2 = {'c' : 6, 'b' : 5, 'e' : 9 , 'f' : 10}\n",
    "dic_1.update(dic_2)\n",
    "print(dic_1)\n"
   ]
  },
  {
   "cell_type": "markdown",
   "metadata": {},
   "source": [
    "#### Ejercicios \n",
    "1. Escribir una función que reciba una lista de tuplas, y que devuelva un diccionario en donde las claves sean los primeros elementos de las tuplas, y los valores una lista con los segundos\n",
    "\n",
    "```\n",
    "l = [ ('hola', 'don Pepito'), ('hola', 'don Jose'), ('Buenos', 'días') ]\n",
    "print tuplas_a_diccionario(l)\n",
    "```\n",
    "\n",
    "2. Como podriamos remover items de un diccionario. Por ejemplo  ```squares = {1:1, 2:4, 3:9, 4:16, 5:25}```\n",
    "    -pop\n",
    "    -popitem\n",
    "    -clear\n",
    "    \n",
    "3.  Que realiza el siguiente Código?    "
   ]
  },
  {
   "cell_type": "code",
   "execution_count": null,
   "metadata": {
    "collapsed": true
   },
   "outputs": [],
   "source": [
    "marks = {}.fromkeys(['Math','English','Science'], 0)\n",
    "\n",
    "# Output: {'English': 0, 'Math': 0, 'Science': 0}\n",
    "print(marks)\n",
    "\n",
    "for item in marks.items():\n",
    "    print(item)\n",
    "\n",
    "# Output: ['English', 'Math', 'Science']\n",
    "list(sorted(marks.keys()))"
   ]
  },
  {
   "cell_type": "markdown",
   "metadata": {},
   "source": [
    "- Como se forman los siguientes diccionarios: "
   ]
  },
  {
   "cell_type": "code",
   "execution_count": null,
   "metadata": {
    "collapsed": true
   },
   "outputs": [],
   "source": [
    "squares = {x: x*x for x in range(6)}\n",
    "print(squares)\n",
    "\n",
    "odd_squares = {x: x*x for x in range(11) if x%2 == 1}\n",
    "print(odd_squares)"
   ]
  },
  {
   "cell_type": "markdown",
   "metadata": {},
   "source": [
    "** Referencias**\n",
    "\n",
    "-[Programiz](https://www.programiz.com/python-programming/directory) : Curso de programación con evaluación y codificación en linea, usando Notebooks. "
   ]
  }
 ],
 "metadata": {
  "kernelspec": {
   "display_name": "Python 2",
   "language": "python",
   "name": "python2"
  },
  "language_info": {
   "codemirror_mode": {
    "name": "ipython",
    "version": 2
   },
   "file_extension": ".py",
   "mimetype": "text/x-python",
   "name": "python",
   "nbconvert_exporter": "python",
   "pygments_lexer": "ipython2",
   "version": "2.7.12"
  }
 },
 "nbformat": 4,
 "nbformat_minor": 2
}
